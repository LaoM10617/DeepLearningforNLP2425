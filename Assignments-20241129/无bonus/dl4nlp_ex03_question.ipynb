{
 "cells": [
  {
   "cell_type": "markdown",
   "id": "9f506b01-f3ba-4744-9953-6a8d30f24717",
   "metadata": {
    "id": "9f506b01-f3ba-4744-9953-6a8d30f24717"
   },
   "source": [
    "# Deep Learning for NLP - Exercise 03\n",
    "In this exercise, we will be using the Hugging Face ecosystem to finetune BERT for a classification task (part 1) and T5 for text summarization (part 2). Then, we will upload our training and validation results via TensorBoard, which makes interactive sharing and inspecting of results very easy.\n",
    "\n",
    "Part 1 and part 2 can be worked on independently.\n",
    "\n",
    "___\n",
    "General hints:\n",
    "* Have a look at the imports below when solving the tasks\n",
    "* Use the given modules and all submodules of the imports, but don't import anything else!\n",
    "    * For instance, you can use other functions under the `torch` or `nn` namespace, but don't import e.g. PyTorch Lightning, etc.\n",
    "* It is recommended to install all packages from the provided environment file\n",
    "* Feel free to test your code between sub-tasks of the exercise sheet, so that you can spot mistakes early (wrong shapes, impossible numbers, NaNs, ...)\n",
    "* Just keep in mind that your final submission should be compliant to the provided initial format of this file\n",
    "\n",
    "Submission guidelines:\n",
    "* Make sure that the code runs on package versions from the the provided environment file\n",
    "* Do not add or change any imports (also don't change the naming of imports, e.g. `torch.nn.functional as f`)\n",
    "* Remove your personal, additional code testings and experiments throughout the notebook\n",
    "* Do not change the class, function or naming structure as we will run tests on the given names\n",
    "* Additionally export this notebook as a `.py` file, and submit **both** the executed `.ipynb` notebook with plots in it **and** the `.py` file\n",
    "* **Deviation from the above guidelines will result in partial or full loss of points**"
   ]
  },
  {
   "cell_type": "code",
   "execution_count": 1,
   "id": "eaa3cf98-b17b-4c72-b876-c1f1d67b1486",
   "metadata": {
    "id": "eaa3cf98-b17b-4c72-b876-c1f1d67b1486"
   },
   "outputs": [
    {
     "name": "stdout",
     "output_type": "stream",
     "text": [
      "Collecting transformers==4.24.0\n",
      "  Using cached transformers-4.24.0-py3-none-any.whl (5.5 MB)\n",
      "Requirement already satisfied: requests in c:\\users\\13020\\appdata\\roaming\\python\\python39\\site-packages (from transformers==4.24.0) (2.32.3)\n",
      "Requirement already satisfied: huggingface-hub<1.0,>=0.10.0 in c:\\users\\13020\\appdata\\roaming\\python\\python39\\site-packages (from transformers==4.24.0) (0.22.2)\n",
      "Requirement already satisfied: packaging>=20.0 in c:\\programdata\\anaconda3\\lib\\site-packages (from transformers==4.24.0) (21.3)\n",
      "Requirement already satisfied: regex!=2019.12.17 in c:\\programdata\\anaconda3\\lib\\site-packages (from transformers==4.24.0) (2022.7.9)\n",
      "Requirement already satisfied: tokenizers!=0.11.3,<0.14,>=0.11.1 in c:\\users\\13020\\appdata\\roaming\\python\\python39\\site-packages (from transformers==4.24.0) (0.13.3)\n",
      "Requirement already satisfied: tqdm>=4.27 in c:\\users\\13020\\appdata\\roaming\\python\\python39\\site-packages (from transformers==4.24.0) (4.66.6)\n",
      "Requirement already satisfied: pyyaml>=5.1 in c:\\programdata\\anaconda3\\lib\\site-packages (from transformers==4.24.0) (6.0)\n",
      "Requirement already satisfied: filelock in c:\\programdata\\anaconda3\\lib\\site-packages (from transformers==4.24.0) (3.6.0)\n",
      "Requirement already satisfied: numpy>=1.17 in c:\\programdata\\anaconda3\\lib\\site-packages (from transformers==4.24.0) (1.21.5)\n",
      "Requirement already satisfied: typing-extensions>=3.7.4.3 in c:\\users\\13020\\appdata\\roaming\\python\\python39\\site-packages (from huggingface-hub<1.0,>=0.10.0->transformers==4.24.0) (4.11.0)\n",
      "Requirement already satisfied: fsspec>=2023.5.0 in c:\\users\\13020\\appdata\\roaming\\python\\python39\\site-packages (from huggingface-hub<1.0,>=0.10.0->transformers==4.24.0) (2023.10.0)\n",
      "Requirement already satisfied: pyparsing!=3.0.5,>=2.0.2 in c:\\programdata\\anaconda3\\lib\\site-packages (from packaging>=20.0->transformers==4.24.0) (3.0.9)\n",
      "Requirement already satisfied: colorama in c:\\users\\13020\\appdata\\roaming\\python\\python39\\site-packages (from tqdm>=4.27->transformers==4.24.0) (0.4.6)\n",
      "Requirement already satisfied: urllib3<3,>=1.21.1 in c:\\programdata\\anaconda3\\lib\\site-packages (from requests->transformers==4.24.0) (1.26.11)\n",
      "Requirement already satisfied: charset-normalizer<4,>=2 in c:\\programdata\\anaconda3\\lib\\site-packages (from requests->transformers==4.24.0) (2.0.4)\n",
      "Requirement already satisfied: certifi>=2017.4.17 in c:\\programdata\\anaconda3\\lib\\site-packages (from requests->transformers==4.24.0) (2022.9.14)\n",
      "Requirement already satisfied: idna<4,>=2.5 in c:\\programdata\\anaconda3\\lib\\site-packages (from requests->transformers==4.24.0) (3.3)\n",
      "Installing collected packages: transformers\n",
      "  Attempting uninstall: transformers\n",
      "    Found existing installation: transformers 4.40.0\n",
      "    Uninstalling transformers-4.40.0:\n",
      "      Successfully uninstalled transformers-4.40.0\n",
      "Successfully installed transformers-4.24.0\n"
     ]
    },
    {
     "name": "stderr",
     "output_type": "stream",
     "text": [
      "ERROR: pip's dependency resolver does not currently take into account all the packages that are installed. This behaviour is the source of the following dependency conflicts.\n",
      "sentence-transformers 2.7.0 requires transformers<5.0.0,>=4.34.0, but you have transformers 4.24.0 which is incompatible.\n"
     ]
    }
   ],
   "source": [
    "# !pip install transformers==4.24.0\n",
    "# !pip install datasets==3.0.1\n",
    "# !pip install evaluate==0.4.0\n",
    "# !pip install rouge-score==0.1.2\n",
    "# !pip install py7zr"
   ]
  },
  {
   "cell_type": "markdown",
   "id": "a040d626-232c-4f9a-be5e-aaad77ecfbb0",
   "metadata": {
    "id": "a040d626-232c-4f9a-be5e-aaad77ecfbb0",
    "tags": []
   },
   "source": [
    "# Task 1: Sequence Classification with BERT"
   ]
  },
  {
   "cell_type": "markdown",
   "id": "12fbdc10-854d-4c00-97b1-cedcd0bdde77",
   "metadata": {
    "id": "12fbdc10-854d-4c00-97b1-cedcd0bdde77"
   },
   "source": [
    "* In this task, we will finetune [BERT](https://huggingface.co/bert-base-uncased) on a custom sentiment classification dataset and perform multi-class sequence classification."
   ]
  },
  {
   "cell_type": "code",
   "execution_count": 1,
   "id": "d5529e86-d1c1-4414-b0d3-56d6931f21e5",
   "metadata": {
    "id": "d5529e86-d1c1-4414-b0d3-56d6931f21e5"
   },
   "outputs": [],
   "source": [
    "import os\n",
    "import random\n",
    "import numpy as np\n",
    "from sklearn.metrics import f1_score\n",
    "import matplotlib.pyplot as plt\n",
    "\n",
    "import torch\n",
    "import torch.nn as nn\n",
    "\n",
    "from datasets import load_dataset\n",
    "\n",
    "from transformers import (\n",
    "    Trainer,\n",
    "    TrainingArguments,\n",
    "    AutoTokenizer,\n",
    "    AutoModelForSequenceClassification,\n",
    ")"
   ]
  },
  {
   "cell_type": "code",
   "execution_count": 2,
   "id": "67aefa49-05b1-4b82-ba9d-ad0ebf4742f5",
   "metadata": {
    "id": "67aefa49-05b1-4b82-ba9d-ad0ebf4742f5"
   },
   "outputs": [],
   "source": [
    "device = 'cuda:0' if torch.cuda.is_available() else 'cpu'\n",
    "os.environ['TOKENIZERS_PARALLELISM'] = 'false' "
   ]
  },
  {
   "cell_type": "markdown",
   "id": "1cdb73ae-5cba-4c54-a65d-7af604c22fd9",
   "metadata": {
    "id": "1cdb73ae-5cba-4c54-a65d-7af604c22fd9"
   },
   "source": [
    "We start by downloading the [DAIR-AI Emotion Dataset](https://huggingface.co/datasets/dair-ai/emotion) from the Hugging Face Hub, which already comes with a train, validation, and test split of 16,000 - 2,000 - 2,000 samples. The dataset consists of tweets with their labeled emotions over 6 different classes.\n",
    "\n",
    "* As the dataset, by default, consists of integer labels, we first create two helper dictionaries\n",
    "    * `idx2lbl`, which maps the integer index to the label string\n",
    "    * `lbl2idx`, which maps the label strings to the integer index\n",
    "    * The downloaded Hugging Face dataset object implements a useful `.features` method for each dataset split, which contains the label strings in the correct order corresponding to the integers (the labels are consistent across each split, so it is enough to only inspect one split)\n",
    "* Try to get an overview of the data and the dataset format by printing 10 random (use the `random` library to sample random numbers!) samples of the train split with their corresponding integer and string labels"
   ]
  },
  {
   "cell_type": "code",
   "execution_count": 3,
   "id": "90261bf4-0b3f-44ae-af4c-2d2ed2d58d36",
   "metadata": {
    "id": "90261bf4-0b3f-44ae-af4c-2d2ed2d58d36"
   },
   "outputs": [],
   "source": [
    "emotion_dataset = load_dataset(\"dair-ai/emotion\")"
   ]
  },
  {
   "cell_type": "code",
   "execution_count": 4,
   "id": "cb96f49b-f101-47cb-8d69-febe03928969",
   "metadata": {
    "id": "cb96f49b-f101-47cb-8d69-febe03928969"
   },
   "outputs": [],
   "source": [
    "label_features = emotion_dataset['train'].features['label']\n",
    "idx2lbl = {i: label for i, label in enumerate(label_features.names)}\n",
    "lbl2idx = {label: i for i, label in enumerate(label_features.names)}"
   ]
  },
  {
   "cell_type": "code",
   "execution_count": 5,
   "id": "4a160b43-c6ab-47fb-a727-907ec2a4c04a",
   "metadata": {
    "id": "4a160b43-c6ab-47fb-a727-907ec2a4c04a"
   },
   "outputs": [
    {
     "name": "stdout",
     "output_type": "stream",
     "text": [
      "Text: i did sleep last night however but woke up at am feeling splendid other than sniffles and itchy throat and just wasnt sure how i could be so awake, Label: joy\n",
      "Text: out on a weekend with a group of people, Label: anger\n",
      "Text: i feel rejected by someone then what part of myself am i rejecting, Label: sadness\n",
      "Text: i feel like if i had a job worth caring about i wouldn t be so shifty, Label: love\n",
      "Text: im feeling dull and bored, Label: sadness\n",
      "Text: i couldn t feel positive emotions of any sort, Label: joy\n",
      "Text: i feel quite lucky to have stumbled upon it, Label: joy\n",
      "Text: i asked feeling hesitant, Label: fear\n",
      "Text: i feel fantastic and i find that i have a renewed sense of strength and endurance, Label: joy\n",
      "Text: on a dark night i felt that there were several people near me and i did not know who they were, Label: fear\n"
     ]
    }
   ],
   "source": [
    "rand_idxs = random.sample(range(len(emotion_dataset['train'])), 10)\n",
    "for idx in rand_idxs:\n",
    "    example = emotion_dataset['train'][idx]\n",
    "    print(f\"Text: {example['text']}, Label: {idx2lbl[example['label']]}\")"
   ]
  },
  {
   "cell_type": "markdown",
   "id": "cd221019-21e4-4dcc-9cdb-fb37d10140ab",
   "metadata": {
    "id": "cd221019-21e4-4dcc-9cdb-fb37d10140ab"
   },
   "source": [
    "To start the preprocessing steps, we first need to load the pre-trained tokenizer for our [bert-base-uncased](https://huggingface.co/bert-base-uncased) model, which can be achieved very comfortable using the `AutoTokenizer` [class API](https://huggingface.co/docs/transformers/model_doc/auto#transformers.AutoTokenizer) from Hugging Face."
   ]
  },
  {
   "cell_type": "code",
   "execution_count": 6,
   "id": "46d58ef2-7f79-4985-8dc1-2f8743c96e80",
   "metadata": {
    "id": "46d58ef2-7f79-4985-8dc1-2f8743c96e80"
   },
   "outputs": [],
   "source": [
    "tokenizer = AutoTokenizer.from_pretrained(\"bert-base-uncased\")"
   ]
  },
  {
   "cell_type": "markdown",
   "id": "3074cb17-ec06-4ea5-8050-37686c6e0ee4",
   "metadata": {
    "id": "3074cb17-ec06-4ea5-8050-37686c6e0ee4"
   },
   "source": [
    "If we enter an example input from the train set into the tokenizer, we can see that we receive again dictionaries as output, which is the preferred data format from Hugging Face."
   ]
  },
  {
   "cell_type": "code",
   "execution_count": 7,
   "id": "f946f992-2676-49dc-b6a2-c0ecc9e45502",
   "metadata": {
    "id": "f946f992-2676-49dc-b6a2-c0ecc9e45502"
   },
   "outputs": [
    {
     "name": "stdout",
     "output_type": "stream",
     "text": [
      "Original Text: i didnt feel humiliated\n",
      "Tokenized Output: {'input_ids': tensor([[  101,  1045,  2134,  2102,  2514, 26608,   102,     0,     0,     0,\n",
      "             0,     0,     0,     0,     0,     0,     0,     0,     0,     0,\n",
      "             0,     0,     0,     0,     0,     0,     0,     0,     0,     0,\n",
      "             0,     0,     0,     0,     0,     0,     0,     0,     0,     0,\n",
      "             0,     0,     0,     0,     0,     0,     0,     0,     0,     0,\n",
      "             0,     0,     0,     0,     0,     0,     0,     0,     0,     0,\n",
      "             0,     0,     0,     0,     0,     0,     0,     0,     0,     0,\n",
      "             0,     0,     0,     0,     0,     0,     0,     0,     0,     0,\n",
      "             0,     0,     0,     0,     0,     0,     0,     0,     0,     0,\n",
      "             0,     0,     0,     0,     0,     0,     0,     0,     0,     0,\n",
      "             0,     0,     0,     0,     0,     0,     0,     0,     0,     0,\n",
      "             0,     0,     0,     0,     0,     0,     0,     0,     0,     0,\n",
      "             0,     0,     0,     0,     0,     0,     0,     0]]), 'token_type_ids': tensor([[0, 0, 0, 0, 0, 0, 0, 0, 0, 0, 0, 0, 0, 0, 0, 0, 0, 0, 0, 0, 0, 0, 0, 0,\n",
      "         0, 0, 0, 0, 0, 0, 0, 0, 0, 0, 0, 0, 0, 0, 0, 0, 0, 0, 0, 0, 0, 0, 0, 0,\n",
      "         0, 0, 0, 0, 0, 0, 0, 0, 0, 0, 0, 0, 0, 0, 0, 0, 0, 0, 0, 0, 0, 0, 0, 0,\n",
      "         0, 0, 0, 0, 0, 0, 0, 0, 0, 0, 0, 0, 0, 0, 0, 0, 0, 0, 0, 0, 0, 0, 0, 0,\n",
      "         0, 0, 0, 0, 0, 0, 0, 0, 0, 0, 0, 0, 0, 0, 0, 0, 0, 0, 0, 0, 0, 0, 0, 0,\n",
      "         0, 0, 0, 0, 0, 0, 0, 0]]), 'attention_mask': tensor([[1, 1, 1, 1, 1, 1, 1, 0, 0, 0, 0, 0, 0, 0, 0, 0, 0, 0, 0, 0, 0, 0, 0, 0,\n",
      "         0, 0, 0, 0, 0, 0, 0, 0, 0, 0, 0, 0, 0, 0, 0, 0, 0, 0, 0, 0, 0, 0, 0, 0,\n",
      "         0, 0, 0, 0, 0, 0, 0, 0, 0, 0, 0, 0, 0, 0, 0, 0, 0, 0, 0, 0, 0, 0, 0, 0,\n",
      "         0, 0, 0, 0, 0, 0, 0, 0, 0, 0, 0, 0, 0, 0, 0, 0, 0, 0, 0, 0, 0, 0, 0, 0,\n",
      "         0, 0, 0, 0, 0, 0, 0, 0, 0, 0, 0, 0, 0, 0, 0, 0, 0, 0, 0, 0, 0, 0, 0, 0,\n",
      "         0, 0, 0, 0, 0, 0, 0, 0]])}\n"
     ]
    }
   ],
   "source": [
    "example_text = emotion_dataset['train'][0]['text']\n",
    "example_seq = tokenizer(example_text, padding=\"max_length\", truncation=True, max_length=128, return_tensors=\"pt\")\n",
    "\n",
    "print(\"Original Text:\", example_text)\n",
    "print(\"Tokenized Output:\", example_seq)"
   ]
  },
  {
   "cell_type": "markdown",
   "id": "3159455f-03c7-4fe0-ae53-36ab44aafa65",
   "metadata": {
    "id": "3159455f-03c7-4fe0-ae53-36ab44aafa65"
   },
   "source": [
    "* We can see that the dictionary contains `input_ids`, which represent the tokenized sequence *including* specials tokens\n",
    "    * For instance, notice that the sequence begins with `101`, which is used by BERT to mark the `[CLS]` token\n",
    "    * The sequence ends with the `102` token, which BERT uses as a separation mark between sequences, `[SEP]`\n",
    "    * You can check all special tokens using `tokenizer.all_special_tokens` and `tokenizer.all_special_ids`\n",
    "* Secondly, the tokenizer contains `token_type_ids`, which are used to distinguish different segments of input tokens in models that support token-level type embeddings, like BERT and its variants\n",
    "    * These embeddings are useful for tasks like sentence pair classification or question answering, where the model needs to understand which tokens belong to which part of the input. (not needed here)\n",
    "* Thirdly, the tokenizer automatically creates the attention mask, which consists of all `1` in this case\n",
    "    * The attention mask in input sequences is usually only `0` when padding symbols are added, as we don't want to attend to padding symbols"
   ]
  },
  {
   "cell_type": "markdown",
   "id": "02af8005-8c7c-4dce-b34a-074576892e81",
   "metadata": {
    "id": "02af8005-8c7c-4dce-b34a-074576892e81"
   },
   "source": [
    "Following this, we can use the tokenizer to tokenize our entire dataset.\n",
    "\n",
    "* Hugging Face dataset objects provide a way to `map` a function onto every single object using powerful parallel processing operations\n",
    "* There, we need to create a function which acts like it:\n",
    "    * takes in text examples of a data split of our dataset object\n",
    "    * inputs it into the tokenizer\n",
    "        * use the tokenizer with options `truncation=True` and `max_length=512`, since the maximum context size of BERT is 512 tokens\n",
    "        * This shouldn't impact our dataset in any way since the Tweet dataset stems from the times when tweets were limited to 280 characters, but it's better to be safe than sorry and have your training interrupted\n",
    "    * return the output of the tokenizer\n",
    "* Apply the function onto the entire dataset object using its `map` method with the option `batched=True`"
   ]
  },
  {
   "cell_type": "code",
   "execution_count": 8,
   "id": "827f4441-849c-4e8c-b4cf-07721fd1e823",
   "metadata": {
    "id": "827f4441-849c-4e8c-b4cf-07721fd1e823"
   },
   "outputs": [],
   "source": [
    "def tokenize_seqs(examples):\n",
    "    return tokenizer(examples[\"text\"], truncation=True, max_length=512, padding=\"max_length\")\n",
    "\n",
    "tokenized_datasets = emotion_dataset.map(tokenize_seqs, batched=True)"
   ]
  },
  {
   "cell_type": "markdown",
   "id": "0e4e1605-da0d-4dff-868b-720ae98f06a1",
   "metadata": {
    "id": "0e4e1605-da0d-4dff-868b-720ae98f06a1"
   },
   "source": [
    "* Lastly, the [Hugging Face Trainer](https://huggingface.co/docs/transformers/main_classes/trainer) expects the class labels to be named `labels`, so we need to rename the label column from `label` to `labels`\n",
    "    * Make use of the provided functions in the [Hugging Face Datasets API](https://huggingface.co/docs/datasets/process)"
   ]
  },
  {
   "cell_type": "code",
   "execution_count": 9,
   "id": "488618a4-3598-465f-b4d7-7454cacad50f",
   "metadata": {
    "id": "488618a4-3598-465f-b4d7-7454cacad50f"
   },
   "outputs": [
    {
     "name": "stdout",
     "output_type": "stream",
     "text": [
      "{'text': 'i didnt feel humiliated', 'labels': 0, 'input_ids': [101, 1045, 2134, 2102, 2514, 26608, 102, 0, 0, 0, 0, 0, 0, 0, 0, 0, 0, 0, 0, 0, 0, 0, 0, 0, 0, 0, 0, 0, 0, 0, 0, 0, 0, 0, 0, 0, 0, 0, 0, 0, 0, 0, 0, 0, 0, 0, 0, 0, 0, 0, 0, 0, 0, 0, 0, 0, 0, 0, 0, 0, 0, 0, 0, 0, 0, 0, 0, 0, 0, 0, 0, 0, 0, 0, 0, 0, 0, 0, 0, 0, 0, 0, 0, 0, 0, 0, 0, 0, 0, 0, 0, 0, 0, 0, 0, 0, 0, 0, 0, 0, 0, 0, 0, 0, 0, 0, 0, 0, 0, 0, 0, 0, 0, 0, 0, 0, 0, 0, 0, 0, 0, 0, 0, 0, 0, 0, 0, 0, 0, 0, 0, 0, 0, 0, 0, 0, 0, 0, 0, 0, 0, 0, 0, 0, 0, 0, 0, 0, 0, 0, 0, 0, 0, 0, 0, 0, 0, 0, 0, 0, 0, 0, 0, 0, 0, 0, 0, 0, 0, 0, 0, 0, 0, 0, 0, 0, 0, 0, 0, 0, 0, 0, 0, 0, 0, 0, 0, 0, 0, 0, 0, 0, 0, 0, 0, 0, 0, 0, 0, 0, 0, 0, 0, 0, 0, 0, 0, 0, 0, 0, 0, 0, 0, 0, 0, 0, 0, 0, 0, 0, 0, 0, 0, 0, 0, 0, 0, 0, 0, 0, 0, 0, 0, 0, 0, 0, 0, 0, 0, 0, 0, 0, 0, 0, 0, 0, 0, 0, 0, 0, 0, 0, 0, 0, 0, 0, 0, 0, 0, 0, 0, 0, 0, 0, 0, 0, 0, 0, 0, 0, 0, 0, 0, 0, 0, 0, 0, 0, 0, 0, 0, 0, 0, 0, 0, 0, 0, 0, 0, 0, 0, 0, 0, 0, 0, 0, 0, 0, 0, 0, 0, 0, 0, 0, 0, 0, 0, 0, 0, 0, 0, 0, 0, 0, 0, 0, 0, 0, 0, 0, 0, 0, 0, 0, 0, 0, 0, 0, 0, 0, 0, 0, 0, 0, 0, 0, 0, 0, 0, 0, 0, 0, 0, 0, 0, 0, 0, 0, 0, 0, 0, 0, 0, 0, 0, 0, 0, 0, 0, 0, 0, 0, 0, 0, 0, 0, 0, 0, 0, 0, 0, 0, 0, 0, 0, 0, 0, 0, 0, 0, 0, 0, 0, 0, 0, 0, 0, 0, 0, 0, 0, 0, 0, 0, 0, 0, 0, 0, 0, 0, 0, 0, 0, 0, 0, 0, 0, 0, 0, 0, 0, 0, 0, 0, 0, 0, 0, 0, 0, 0, 0, 0, 0, 0, 0, 0, 0, 0, 0, 0, 0, 0, 0, 0, 0, 0, 0, 0, 0, 0, 0, 0, 0, 0, 0, 0, 0, 0, 0, 0, 0, 0, 0, 0, 0, 0, 0, 0, 0, 0, 0, 0, 0, 0, 0, 0, 0, 0, 0, 0, 0, 0, 0, 0, 0, 0, 0, 0, 0, 0, 0, 0, 0, 0, 0, 0, 0, 0, 0, 0, 0, 0, 0, 0, 0, 0, 0, 0, 0, 0, 0, 0, 0, 0, 0, 0, 0, 0, 0, 0, 0, 0], 'token_type_ids': [0, 0, 0, 0, 0, 0, 0, 0, 0, 0, 0, 0, 0, 0, 0, 0, 0, 0, 0, 0, 0, 0, 0, 0, 0, 0, 0, 0, 0, 0, 0, 0, 0, 0, 0, 0, 0, 0, 0, 0, 0, 0, 0, 0, 0, 0, 0, 0, 0, 0, 0, 0, 0, 0, 0, 0, 0, 0, 0, 0, 0, 0, 0, 0, 0, 0, 0, 0, 0, 0, 0, 0, 0, 0, 0, 0, 0, 0, 0, 0, 0, 0, 0, 0, 0, 0, 0, 0, 0, 0, 0, 0, 0, 0, 0, 0, 0, 0, 0, 0, 0, 0, 0, 0, 0, 0, 0, 0, 0, 0, 0, 0, 0, 0, 0, 0, 0, 0, 0, 0, 0, 0, 0, 0, 0, 0, 0, 0, 0, 0, 0, 0, 0, 0, 0, 0, 0, 0, 0, 0, 0, 0, 0, 0, 0, 0, 0, 0, 0, 0, 0, 0, 0, 0, 0, 0, 0, 0, 0, 0, 0, 0, 0, 0, 0, 0, 0, 0, 0, 0, 0, 0, 0, 0, 0, 0, 0, 0, 0, 0, 0, 0, 0, 0, 0, 0, 0, 0, 0, 0, 0, 0, 0, 0, 0, 0, 0, 0, 0, 0, 0, 0, 0, 0, 0, 0, 0, 0, 0, 0, 0, 0, 0, 0, 0, 0, 0, 0, 0, 0, 0, 0, 0, 0, 0, 0, 0, 0, 0, 0, 0, 0, 0, 0, 0, 0, 0, 0, 0, 0, 0, 0, 0, 0, 0, 0, 0, 0, 0, 0, 0, 0, 0, 0, 0, 0, 0, 0, 0, 0, 0, 0, 0, 0, 0, 0, 0, 0, 0, 0, 0, 0, 0, 0, 0, 0, 0, 0, 0, 0, 0, 0, 0, 0, 0, 0, 0, 0, 0, 0, 0, 0, 0, 0, 0, 0, 0, 0, 0, 0, 0, 0, 0, 0, 0, 0, 0, 0, 0, 0, 0, 0, 0, 0, 0, 0, 0, 0, 0, 0, 0, 0, 0, 0, 0, 0, 0, 0, 0, 0, 0, 0, 0, 0, 0, 0, 0, 0, 0, 0, 0, 0, 0, 0, 0, 0, 0, 0, 0, 0, 0, 0, 0, 0, 0, 0, 0, 0, 0, 0, 0, 0, 0, 0, 0, 0, 0, 0, 0, 0, 0, 0, 0, 0, 0, 0, 0, 0, 0, 0, 0, 0, 0, 0, 0, 0, 0, 0, 0, 0, 0, 0, 0, 0, 0, 0, 0, 0, 0, 0, 0, 0, 0, 0, 0, 0, 0, 0, 0, 0, 0, 0, 0, 0, 0, 0, 0, 0, 0, 0, 0, 0, 0, 0, 0, 0, 0, 0, 0, 0, 0, 0, 0, 0, 0, 0, 0, 0, 0, 0, 0, 0, 0, 0, 0, 0, 0, 0, 0, 0, 0, 0, 0, 0, 0, 0, 0, 0, 0, 0, 0, 0, 0, 0, 0, 0, 0, 0, 0, 0, 0, 0, 0, 0, 0, 0, 0, 0, 0, 0, 0, 0, 0, 0, 0, 0, 0, 0, 0, 0, 0, 0, 0, 0, 0, 0, 0, 0, 0, 0, 0, 0, 0, 0, 0, 0, 0, 0, 0, 0, 0, 0], 'attention_mask': [1, 1, 1, 1, 1, 1, 1, 0, 0, 0, 0, 0, 0, 0, 0, 0, 0, 0, 0, 0, 0, 0, 0, 0, 0, 0, 0, 0, 0, 0, 0, 0, 0, 0, 0, 0, 0, 0, 0, 0, 0, 0, 0, 0, 0, 0, 0, 0, 0, 0, 0, 0, 0, 0, 0, 0, 0, 0, 0, 0, 0, 0, 0, 0, 0, 0, 0, 0, 0, 0, 0, 0, 0, 0, 0, 0, 0, 0, 0, 0, 0, 0, 0, 0, 0, 0, 0, 0, 0, 0, 0, 0, 0, 0, 0, 0, 0, 0, 0, 0, 0, 0, 0, 0, 0, 0, 0, 0, 0, 0, 0, 0, 0, 0, 0, 0, 0, 0, 0, 0, 0, 0, 0, 0, 0, 0, 0, 0, 0, 0, 0, 0, 0, 0, 0, 0, 0, 0, 0, 0, 0, 0, 0, 0, 0, 0, 0, 0, 0, 0, 0, 0, 0, 0, 0, 0, 0, 0, 0, 0, 0, 0, 0, 0, 0, 0, 0, 0, 0, 0, 0, 0, 0, 0, 0, 0, 0, 0, 0, 0, 0, 0, 0, 0, 0, 0, 0, 0, 0, 0, 0, 0, 0, 0, 0, 0, 0, 0, 0, 0, 0, 0, 0, 0, 0, 0, 0, 0, 0, 0, 0, 0, 0, 0, 0, 0, 0, 0, 0, 0, 0, 0, 0, 0, 0, 0, 0, 0, 0, 0, 0, 0, 0, 0, 0, 0, 0, 0, 0, 0, 0, 0, 0, 0, 0, 0, 0, 0, 0, 0, 0, 0, 0, 0, 0, 0, 0, 0, 0, 0, 0, 0, 0, 0, 0, 0, 0, 0, 0, 0, 0, 0, 0, 0, 0, 0, 0, 0, 0, 0, 0, 0, 0, 0, 0, 0, 0, 0, 0, 0, 0, 0, 0, 0, 0, 0, 0, 0, 0, 0, 0, 0, 0, 0, 0, 0, 0, 0, 0, 0, 0, 0, 0, 0, 0, 0, 0, 0, 0, 0, 0, 0, 0, 0, 0, 0, 0, 0, 0, 0, 0, 0, 0, 0, 0, 0, 0, 0, 0, 0, 0, 0, 0, 0, 0, 0, 0, 0, 0, 0, 0, 0, 0, 0, 0, 0, 0, 0, 0, 0, 0, 0, 0, 0, 0, 0, 0, 0, 0, 0, 0, 0, 0, 0, 0, 0, 0, 0, 0, 0, 0, 0, 0, 0, 0, 0, 0, 0, 0, 0, 0, 0, 0, 0, 0, 0, 0, 0, 0, 0, 0, 0, 0, 0, 0, 0, 0, 0, 0, 0, 0, 0, 0, 0, 0, 0, 0, 0, 0, 0, 0, 0, 0, 0, 0, 0, 0, 0, 0, 0, 0, 0, 0, 0, 0, 0, 0, 0, 0, 0, 0, 0, 0, 0, 0, 0, 0, 0, 0, 0, 0, 0, 0, 0, 0, 0, 0, 0, 0, 0, 0, 0, 0, 0, 0, 0, 0, 0, 0, 0, 0, 0, 0, 0, 0, 0, 0, 0, 0, 0, 0, 0, 0, 0, 0, 0, 0, 0, 0, 0, 0, 0, 0, 0, 0, 0, 0, 0, 0, 0, 0, 0, 0, 0, 0, 0, 0, 0, 0, 0, 0, 0]}\n"
     ]
    }
   ],
   "source": [
    "tokenized_datasets = tokenized_datasets.rename_column(\"label\", \"labels\")\n",
    "#print(tokenized_datasets['train'][0])"
   ]
  },
  {
   "cell_type": "markdown",
   "id": "972d3411-8b9d-44da-9d80-f5347ec247ea",
   "metadata": {
    "id": "972d3411-8b9d-44da-9d80-f5347ec247ea"
   },
   "source": [
    "* We can now load our pre-trained BERT model [bert-base-uncased](https://huggingface.co/bert-base-uncased) from the Hugging Face Hub\n",
    "    * Use the `AutoModelForSequenceClassification`, see [here](https://huggingface.co/docs/transformers/model_doc/auto#transformers.AutoModelForSequenceClassification)\n",
    "    * Specifically, use the `from_pretrained` [method](https://huggingface.co/docs/transformers/model_doc/auto#transformers.AutoModelForSequenceClassification.from_pretrained) and provide the number of labels, and the `id2lbl` and `lblidx` functions we created earlier\n",
    "    * This will configure a `PretrainedConfig` object, which will behave differently depending on whether we train or fine-tune. Have a look [here](https://huggingface.co/docs/transformers/v4.31.0/en/main_classes/configuration#transformers.PretrainedConfig)"
   ]
  },
  {
   "cell_type": "code",
   "execution_count": 10,
   "id": "a3cb65e0-a4fa-470a-a636-fdd5ea1bf405",
   "metadata": {
    "id": "a3cb65e0-a4fa-470a-a636-fdd5ea1bf405"
   },
   "outputs": [
    {
     "name": "stderr",
     "output_type": "stream",
     "text": [
      "Some weights of the model checkpoint at bert-base-uncased were not used when initializing BertForSequenceClassification: ['cls.seq_relationship.bias', 'cls.predictions.bias', 'cls.seq_relationship.weight', 'cls.predictions.transform.dense.weight', 'cls.predictions.transform.LayerNorm.weight', 'cls.predictions.transform.dense.bias', 'cls.predictions.transform.LayerNorm.bias']\n",
      "- This IS expected if you are initializing BertForSequenceClassification from the checkpoint of a model trained on another task or with another architecture (e.g. initializing a BertForSequenceClassification model from a BertForPreTraining model).\n",
      "- This IS NOT expected if you are initializing BertForSequenceClassification from the checkpoint of a model that you expect to be exactly identical (initializing a BertForSequenceClassification model from a BertForSequenceClassification model).\n",
      "Some weights of BertForSequenceClassification were not initialized from the model checkpoint at bert-base-uncased and are newly initialized: ['classifier.weight', 'classifier.bias']\n",
      "You should probably TRAIN this model on a down-stream task to be able to use it for predictions and inference.\n"
     ]
    },
    {
     "name": "stdout",
     "output_type": "stream",
     "text": [
      "BertConfig {\n",
      "  \"_name_or_path\": \"bert-base-uncased\",\n",
      "  \"architectures\": [\n",
      "    \"BertForMaskedLM\"\n",
      "  ],\n",
      "  \"attention_probs_dropout_prob\": 0.1,\n",
      "  \"classifier_dropout\": null,\n",
      "  \"gradient_checkpointing\": false,\n",
      "  \"hidden_act\": \"gelu\",\n",
      "  \"hidden_dropout_prob\": 0.1,\n",
      "  \"hidden_size\": 768,\n",
      "  \"id2label\": {\n",
      "    \"0\": \"sadness\",\n",
      "    \"1\": \"joy\",\n",
      "    \"2\": \"love\",\n",
      "    \"3\": \"anger\",\n",
      "    \"4\": \"fear\",\n",
      "    \"5\": \"surprise\"\n",
      "  },\n",
      "  \"initializer_range\": 0.02,\n",
      "  \"intermediate_size\": 3072,\n",
      "  \"label2id\": {\n",
      "    \"anger\": 3,\n",
      "    \"fear\": 4,\n",
      "    \"joy\": 1,\n",
      "    \"love\": 2,\n",
      "    \"sadness\": 0,\n",
      "    \"surprise\": 5\n",
      "  },\n",
      "  \"layer_norm_eps\": 1e-12,\n",
      "  \"max_position_embeddings\": 512,\n",
      "  \"model_type\": \"bert\",\n",
      "  \"num_attention_heads\": 12,\n",
      "  \"num_hidden_layers\": 12,\n",
      "  \"pad_token_id\": 0,\n",
      "  \"position_embedding_type\": \"absolute\",\n",
      "  \"transformers_version\": \"4.24.0\",\n",
      "  \"type_vocab_size\": 2,\n",
      "  \"use_cache\": true,\n",
      "  \"vocab_size\": 30522\n",
      "}\n",
      "\n"
     ]
    }
   ],
   "source": [
    "num_labels = len(idx2lbl)  \n",
    "model = AutoModelForSequenceClassification.from_pretrained(\n",
    "    \"bert-base-uncased\",\n",
    "    num_labels=num_labels,\n",
    "    id2label=idx2lbl,\n",
    "    label2id=lbl2idx\n",
    ")\n",
    "# print(model.config)"
   ]
  },
  {
   "cell_type": "markdown",
   "id": "8919626c-23fd-40e7-83c3-35d2f6ee894d",
   "metadata": {
    "id": "8919626c-23fd-40e7-83c3-35d2f6ee894d"
   },
   "source": [
    "Next, we are going to define a function that calculates our desired training objective, in our case, the F1 score. In typical Hugging Face fashion, it needs to return a dictionary\n",
    "* First, the function will be called `compute_metrics`\n",
    "    * In theory, it could be any name, but should include *all* metrics you want the return from training, each with its key-value pair in the dictionary\n",
    "    * The key should always represent the name of the metric, and the value should be the calculated metric  \n",
    "* Secondly, it will take a `eval_preds` parameter\n",
    "    * This is an intermediate result type output from the Hugging Face `Trainer` object\n",
    "    * It is a `NamedTuple` of type [EvalPred](https://huggingface.co/docs/transformers/v4.31.0/en/main_classes/configuration#transformers.PretrainedConfig), which holds our predictions and label ids\n",
    "    * You can access them using the `eval_preds.label_ids`, and `eval_preds.predictions` methods\n",
    "* Extract the predictions and labels\n",
    "* Find the predicted class index using `argmax()` with the correct dimension parameter\n",
    "* Calculate the F1 score using the previously imported sklearn function\n",
    "    * Since we have a multi-class classification problem, use the `average='weighted'` choice\n",
    "    * Other settings can also make sense, but in this case, we use the `'weighted'` option\n",
    "* Return a dictionary in the style `{'f1': f1}`"
   ]
  },
  {
   "cell_type": "code",
   "execution_count": 11,
   "id": "6590d17d-a3c9-4721-b4c4-8313c530d529",
   "metadata": {
    "id": "6590d17d-a3c9-4721-b4c4-8313c530d529"
   },
   "outputs": [],
   "source": [
    "def compute_metrics(eval_preds):\n",
    "    logits, labels = eval_preds.predictions, eval_preds.label_ids\n",
    "    preds = logits.argmax(axis=-1) \n",
    "    f1 = f1_score(labels, preds, average='weighted')\n",
    "    return {\"f1\": f1}"
   ]
  },
  {
   "cell_type": "markdown",
   "id": "f340e5ff-a53c-4e0f-a4bc-958eae5f28eb",
   "metadata": {
    "id": "f340e5ff-a53c-4e0f-a4bc-958eae5f28eb"
   },
   "source": [
    "Finally, we are putting it all together in a [TrainingArguments](https://huggingface.co/docs/transformers/main_classes/trainer#transformers.TrainingArguments) instance. It has *a lot* of options, so go and have a look at the above link to the documentation.\n",
    "\n",
    "In our case, we will set the following:\n",
    "* [output_dir](https://huggingface.co/docs/transformers/main_classes/trainer#transformers.TrainingArguments.output_dir), the directory where you want to save model checkpoints and logging files\n",
    "    * Use something like `'./logs/run1'`, because we will later run more experiments, which should then be named `'./logs/run2/'`, so that everything is contained in one directory\n",
    "* [per_device_train_batch_size](https://huggingface.co/docs/transformers/main_classes/trainer#transformers.TrainingArguments.per_device_train_batch_size), the batch size used for training\n",
    "    * since we need to store all ~110mio. parameters of BERT, the gradient for all parameters, and one tokenized batch on the GPU, this will be a rather small batch size of e.g. 4 or 8 (see below for some tricks we can use to artifically increase the effective training batch size)\n",
    "* [per_device_eval_batch_size](https://huggingface.co/docs/transformers/main_classes/trainer#transformers.TrainingArguments.per_device_eval_batch_size), the batch size used for evaluation\n",
    "    * can be approximately 4x the training batch size\n",
    "* [gradient_accumulation_steps](https://huggingface.co/docs/transformers/main_classes/trainer#transformers.TrainingArguments.gradient_accumulation_steps), adds up the gradients of multiple batches in order to artificially increase the batch size while keeping GPU memory lower\n",
    "    * set it to 2, which approximates training with double our train batch size\n",
    "    * see [here](https://huggingface.co/docs/transformers/v4.18.0/en/performance) and [here](https://huggingface.co/docs/transformers/perf_train_gpu_one) for more memory and training speed tricks\n",
    "* [learning_rate](https://huggingface.co/docs/transformers/main_classes/trainer#transformers.TrainingArguments.learning_rate), the learning rate for [AdamW](https://huggingface.co/docs/transformers/v4.31.0/en/main_classes/optimizer_schedules#transformers.AdamW) optimizier, a popular choice for pure transformer model training and fine-tuning\n",
    "    * set it to `2e-5`, transformers generally use much lower training rates than LSTMs or CNNs\n",
    "* [weight_decay](https://huggingface.co/docs/transformers/main_classes/trainer#transformers.TrainingArguments.weight_decay), weight decay rate used for regularization\n",
    "    * set it to `1e-3`\n",
    "* [num_train_epochs](https://huggingface.co/docs/transformers/main_classes/trainer#transformers.TrainingArguments.num_train_epochs(float,), the number of epochs to train\n",
    "    * set it to 3\n",
    "* [evaluation_strategy](https://huggingface.co/docs/transformers/main_classes/trainer#transformers.TrainingArguments.evaluation_strategy), in which intervals evaluation on the dev set should be performed\n",
    "    * set to `'epoch'`\n",
    "* [logging_strategy](https://huggingface.co/docs/transformers/main_classes/trainer#transformers.TrainingArguments.logging_strategy), at which point during training logging should take place, e.g. at every $N$ steps, or per each epoch\n",
    "    * set it to `'steps'`, which requires us to set the `logging_steps` parameter\n",
    "* [logging_steps](https://huggingface.co/docs/transformers/main_classes/trainer#transformers.TrainingArguments.logging_steps), after how many optimizer steps we should log the loss\n",
    "    * set it to `len(emotion_dataset['train']) / per_device_train_batch_size`\n",
    "* [save_strategy](https://huggingface.co/docs/transformers/main_classes/trainer#transformers.TrainingArguments.save_strategy), when a model checkpoint should be save\n",
    "    * set it to `'epoch'`\n",
    "* [save_total_limit](https://huggingface.co/docs/transformers/main_classes/trainer#transformers.TrainingArguments.save_total_limit), how many checkpoints should be saved\n",
    "    * set it to 1 to save save disk sapce\n",
    "* [seed](https://huggingface.co/docs/transformers/main_classes/trainer#transformers.TrainingArguments.seed), the random seed for model initialization, which is important for experimental reproducibilty\n",
    "    * set it to 42 (it already is, by default, but just to be specific)\n",
    "* [data_seed](https://huggingface.co/docs/transformers/main_classes/trainer#transformers.TrainingArguments.data_seed), the random seed for data loading, also important for experimental reproducibility\n",
    "    * set it also to 42\n",
    "* [fp16](https://huggingface.co/docs/transformers/main_classes/trainer#transformers.TrainingArguments.fp16), whether 16bit floating points should be used for training. This is another trick so save memory (roughly half of memory is used, because the default is 32bit floating points, see the two links above)\n",
    "    * set it to `True`\n",
    "* [dataloader_num_workers](https://huggingface.co/docs/transformers/main_classes/trainer#transformers.TrainingArguments.dataloader_num_workers), how many workers to use for dataloading\n",
    "    * set it to 2\n",
    "* [load_best_model_at_end](https://huggingface.co/docs/transformers/main_classes/trainer#transformers.TrainingArguments.load_best_model_at_end), allows us to automatically keep the best model (according to loss) in addition to the last saved, and load it after training for further prediction on the test set\n",
    "    * Set it to `True`"
   ]
  },
  {
   "cell_type": "code",
   "execution_count": 32,
   "id": "f0f100e9-7558-44c5-94ad-f272c11b6ba0",
   "metadata": {
    "id": "f0f100e9-7558-44c5-94ad-f272c11b6ba0"
   },
   "outputs": [
    {
     "name": "stderr",
     "output_type": "stream",
     "text": [
      "PyTorch: setting up devices\n",
      "The default value for the training argument `--report_to` will change in v5 (from all installed integrations to none). In v5, you will need to use `--report_to all` to get the same behavior as now. You should start updating your code and make this info disappear :-).\n"
     ]
    }
   ],
   "source": [
    "training_args = TrainingArguments(\n",
    "    output_dir='./logs/run1/',  \n",
    "    per_device_train_batch_size=8,  \n",
    "    per_device_eval_batch_size=8,  \n",
    "    gradient_accumulation_steps=2,  \n",
    "    learning_rate=2e-5,  \n",
    "    weight_decay=1e-3,  \n",
    "    num_train_epochs=3,  \n",
    "    evaluation_strategy='epoch',  \n",
    "    logging_strategy='steps',  \n",
    "    logging_steps=len(tokenized_datasets['train']) // 8,  \n",
    "    save_strategy='epoch', \n",
    "    save_total_limit=1,  \n",
    "    seed=42,  \n",
    "    data_seed=42,  \n",
    "    fp16=True,  \n",
    "    dataloader_num_workers=2,  \n",
    "    load_best_model_at_end=True,  \n",
    ")"
   ]
  },
  {
   "cell_type": "markdown",
   "id": "a0d7807c-a6f7-44bc-b72e-235d4f815445",
   "metadata": {
    "id": "a0d7807c-a6f7-44bc-b72e-235d4f815445"
   },
   "source": [
    "* Then, we just instantiate the `Trainer`, feed all arguments (`model`, `training_args`, `compute_metrics`, `train_dataset`, `eval_dataset`, `tokenizer`) into [it](https://huggingface.co/docs/transformers/main_classes/trainer#transformers.Trainer), and start training"
   ]
  },
  {
   "cell_type": "code",
   "execution_count": 33,
   "id": "0b14524e-4acc-4a0a-b82e-eea3dede7b41",
   "metadata": {
    "id": "0b14524e-4acc-4a0a-b82e-eea3dede7b41"
   },
   "outputs": [],
   "source": [
    "trainer = Trainer(\n",
    "    model=model,  \n",
    "    args=training_args,  \n",
    "    train_dataset=tokenized_datasets[\"train\"],  \n",
    "    eval_dataset=tokenized_datasets[\"validation\"],  \n",
    "    tokenizer=tokenizer, \n",
    "    compute_metrics=compute_metrics  \n",
    ")"
   ]
  },
  {
   "cell_type": "code",
   "execution_count": 34,
   "id": "d9ee3363-5c94-4be3-ae45-883a557c0529",
   "metadata": {
    "id": "d9ee3363-5c94-4be3-ae45-883a557c0529"
   },
   "outputs": [
    {
     "name": "stderr",
     "output_type": "stream",
     "text": [
      "The following columns in the training set don't have a corresponding argument in `BertForSequenceClassification.forward` and have been ignored: text. If text are not expected by `BertForSequenceClassification.forward`,  you can safely ignore this message.\n",
      "C:\\ProgramData\\Anaconda3\\lib\\site-packages\\transformers\\optimization.py:306: FutureWarning: This implementation of AdamW is deprecated and will be removed in a future version. Use the PyTorch implementation torch.optim.AdamW instead, or set `no_deprecation_warning=True` to disable this warning\n",
      "  warnings.warn(\n",
      "***** Running training *****\n",
      "  Num examples = 16000\n",
      "  Num Epochs = 3\n",
      "  Instantaneous batch size per device = 8\n",
      "  Total train batch size (w. parallel, distributed & accumulation) = 16\n",
      "  Gradient Accumulation steps = 2\n",
      "  Total optimization steps = 3000\n",
      "  Number of trainable parameters = 109486854\n"
     ]
    },
    {
     "data": {
      "text/html": [
       "\n",
       "    <div>\n",
       "      \n",
       "      <progress value='3000' max='3000' style='width:300px; height:20px; vertical-align: middle;'></progress>\n",
       "      [3000/3000 13:31:16, Epoch 3/3]\n",
       "    </div>\n",
       "    <table border=\"1\" class=\"dataframe\">\n",
       "  <thead>\n",
       " <tr style=\"text-align: left;\">\n",
       "      <th>Epoch</th>\n",
       "      <th>Training Loss</th>\n",
       "      <th>Validation Loss</th>\n",
       "      <th>F1</th>\n",
       "    </tr>\n",
       "  </thead>\n",
       "  <tbody>\n",
       "    <tr>\n",
       "      <td>1</td>\n",
       "      <td>No log</td>\n",
       "      <td>0.214456</td>\n",
       "      <td>0.929971</td>\n",
       "    </tr>\n",
       "    <tr>\n",
       "      <td>2</td>\n",
       "      <td>0.300300</td>\n",
       "      <td>0.159212</td>\n",
       "      <td>0.938308</td>\n",
       "    </tr>\n",
       "    <tr>\n",
       "      <td>3</td>\n",
       "      <td>0.300300</td>\n",
       "      <td>0.168792</td>\n",
       "      <td>0.940167</td>\n",
       "    </tr>\n",
       "  </tbody>\n",
       "</table><p>"
      ],
      "text/plain": [
       "<IPython.core.display.HTML object>"
      ]
     },
     "metadata": {},
     "output_type": "display_data"
    },
    {
     "name": "stderr",
     "output_type": "stream",
     "text": [
      "The following columns in the evaluation set don't have a corresponding argument in `BertForSequenceClassification.forward` and have been ignored: text. If text are not expected by `BertForSequenceClassification.forward`,  you can safely ignore this message.\n",
      "***** Running Evaluation *****\n",
      "  Num examples = 2000\n",
      "  Batch size = 8\n",
      "Saving model checkpoint to ./logs/run1/checkpoint-1000\n",
      "Configuration saved in ./logs/run1/checkpoint-1000\\config.json\n",
      "Model weights saved in ./logs/run1/checkpoint-1000\\pytorch_model.bin\n",
      "tokenizer config file saved in ./logs/run1/checkpoint-1000\\tokenizer_config.json\n",
      "Special tokens file saved in ./logs/run1/checkpoint-1000\\special_tokens_map.json\n",
      "The following columns in the evaluation set don't have a corresponding argument in `BertForSequenceClassification.forward` and have been ignored: text. If text are not expected by `BertForSequenceClassification.forward`,  you can safely ignore this message.\n",
      "***** Running Evaluation *****\n",
      "  Num examples = 2000\n",
      "  Batch size = 8\n",
      "Saving model checkpoint to ./logs/run1/checkpoint-2000\n",
      "Configuration saved in ./logs/run1/checkpoint-2000\\config.json\n",
      "Model weights saved in ./logs/run1/checkpoint-2000\\pytorch_model.bin\n",
      "tokenizer config file saved in ./logs/run1/checkpoint-2000\\tokenizer_config.json\n",
      "Special tokens file saved in ./logs/run1/checkpoint-2000\\special_tokens_map.json\n",
      "The following columns in the evaluation set don't have a corresponding argument in `BertForSequenceClassification.forward` and have been ignored: text. If text are not expected by `BertForSequenceClassification.forward`,  you can safely ignore this message.\n",
      "***** Running Evaluation *****\n",
      "  Num examples = 2000\n",
      "  Batch size = 8\n",
      "Saving model checkpoint to ./logs/run1/checkpoint-3000\n",
      "Configuration saved in ./logs/run1/checkpoint-3000\\config.json\n",
      "Model weights saved in ./logs/run1/checkpoint-3000\\pytorch_model.bin\n",
      "tokenizer config file saved in ./logs/run1/checkpoint-3000\\tokenizer_config.json\n",
      "Special tokens file saved in ./logs/run1/checkpoint-3000\\special_tokens_map.json\n",
      "Deleting older checkpoint [logs\\run1\\checkpoint-1000] due to args.save_total_limit\n",
      "\n",
      "\n",
      "Training completed. Do not forget to share your model on huggingface.co/models =)\n",
      "\n",
      "\n",
      "Loading best model from ./logs/run1/checkpoint-2000 (score: 0.1592121720314026).\n",
      "C:\\ProgramData\\Anaconda3\\lib\\site-packages\\transformers\\trainer.py:2024: FutureWarning: You are using `torch.load` with `weights_only=False` (the current default value), which uses the default pickle module implicitly. It is possible to construct malicious pickle data which will execute arbitrary code during unpickling (See https://github.com/pytorch/pytorch/blob/main/SECURITY.md#untrusted-models for more details). In a future release, the default value for `weights_only` will be flipped to `True`. This limits the functions that could be executed during unpickling. Arbitrary objects will no longer be allowed to be loaded via this mode unless they are explicitly allowlisted by the user via `torch.serialization.add_safe_globals`. We recommend you start setting `weights_only=True` for any use case where you don't have full control of the loaded file. Please open an issue on GitHub for any issues related to this experimental feature.\n",
      "  state_dict = torch.load(best_model_path, map_location=\"cpu\")\n",
      "Deleting older checkpoint [logs\\run1\\checkpoint-2000] due to args.save_total_limit\n",
      "Deleting older checkpoint [logs\\run1\\checkpoint-3000] due to args.save_total_limit\n"
     ]
    },
    {
     "data": {
      "text/plain": [
       "TrainOutput(global_step=3000, training_loss=0.23096639506022135, metrics={'train_runtime': 48702.2196, 'train_samples_per_second': 0.986, 'train_steps_per_second': 0.062, 'total_flos': 1.2629784231936e+16, 'train_loss': 0.23096639506022135, 'epoch': 3.0})"
      ]
     },
     "execution_count": 34,
     "metadata": {},
     "output_type": "execute_result"
    }
   ],
   "source": [
    "trainer.train()"
   ]
  },
  {
   "cell_type": "markdown",
   "id": "b3fe076d-0f0f-4a31-809c-eb370b6144fa",
   "metadata": {
    "id": "b3fe076d-0f0f-4a31-809c-eb370b6144fa"
   },
   "source": [
    "* As we specified in the `Trainer` class, we have already loaded the best model again (independent of whether it was last epoch's model or not).\n",
    "* We can now run one final epoch on the test set using `trainer.predict()`, which [returns](https://huggingface.co/docs/transformers/main_classes/trainer#transformers.Trainer.predict) us a `PredictionOutput` containing, among others, the test F1 score\n",
    "* Print the test F1 score and comment on the test set performance compared to the intermediate training evaluations"
   ]
  },
  {
   "cell_type": "code",
   "execution_count": 35,
   "id": "dabb9700-ba82-40e0-a957-699c8c9bbbf0",
   "metadata": {
    "id": "dabb9700-ba82-40e0-a957-699c8c9bbbf0"
   },
   "outputs": [
    {
     "name": "stderr",
     "output_type": "stream",
     "text": [
      "The following columns in the test set don't have a corresponding argument in `BertForSequenceClassification.forward` and have been ignored: text. If text are not expected by `BertForSequenceClassification.forward`,  you can safely ignore this message.\n",
      "***** Running Prediction *****\n",
      "  Num examples = 2000\n",
      "  Batch size = 8\n"
     ]
    },
    {
     "data": {
      "text/html": [],
      "text/plain": [
       "<IPython.core.display.HTML object>"
      ]
     },
     "metadata": {},
     "output_type": "display_data"
    },
    {
     "name": "stdout",
     "output_type": "stream",
     "text": [
      "Test F1 Score: 0.9270599185507037\n"
     ]
    }
   ],
   "source": [
    "test_predictions = trainer.predict(tokenized_datasets[\"test\"])\n",
    "print(\"Test F1 Score:\", test_predictions.metrics[\"test_f1\"])"
   ]
  },
  {
   "cell_type": "markdown",
   "id": "6bb8be22-87d8-41ab-a7a5-130fcebb5ca1",
   "metadata": {
    "id": "6bb8be22-87d8-41ab-a7a5-130fcebb5ca1"
   },
   "source": [
    "___\n",
    "Student answers here:\n",
    "\n",
    "The F1 score (0.9270) on the test set shows that the model performs very well on the target task (multi-classification problem).\n",
    "This shows that the model is able to distinguish between different sentiment categories very well.\n",
    "___"
   ]
  },
  {
   "cell_type": "markdown",
   "id": "bf617e14-5bf9-439b-b880-98fb430ca5f1",
   "metadata": {
    "id": "bf617e14-5bf9-439b-b880-98fb430ca5f1"
   },
   "source": [
    "However, we can go one step further in analyzing the model performances.\n",
    "\n",
    "* Start by creating a plot which shows the percentages of correct and incorrect class predictions per label\n",
    "* For example, you could extract the predicted classes and labels from the test predictions object, and plot a stacked bar chart with a sum that always equals 100%, and each part of the stack is made up of the percentages of correct and incorrect labels\n",
    "* You are also free to use other visualization techniques that show the same kind of information as long as it is clearly visible"
   ]
  },
  {
   "cell_type": "code",
   "execution_count": 36,
   "id": "b8241746-06f9-4601-b045-10965cbaf53c",
   "metadata": {
    "id": "b8241746-06f9-4601-b045-10965cbaf53c"
   },
   "outputs": [
    {
     "data": {
      "image/png": "[encoded data removed]",
      "text/plain": [
       "<Figure size 640x480 with 1 Axes>"
      ]
     },
     "metadata": {},
     "output_type": "display_data"
    }
   ],
   "source": [
    "predictions = np.argmax(test_predictions.predictions, axis=1)  \n",
    "true_labels = test_predictions.label_ids \n",
    "\n",
    "num_classes = len(np.unique(true_labels))\n",
    "correct_counts = np.zeros(num_classes)\n",
    "incorrect_counts = np.zeros(num_classes)\n",
    "\n",
    "for i in range(len(true_labels)):\n",
    "    if predictions[i] == true_labels[i]:\n",
    "        correct_counts[true_labels[i]] += 1\n",
    "    else:\n",
    "        incorrect_counts[true_labels[i]] += 1\n",
    "\n",
    "total_counts = correct_counts + incorrect_counts\n",
    "correct_percentages = correct_counts / total_counts * 100\n",
    "incorrect_percentages = incorrect_counts / total_counts * 100\n",
    "\n",
    "labels = [f\"Class {i}\" for i in range(num_classes)]\n",
    "x = np.arange(num_classes)\n",
    "\n",
    "plt.bar(x, correct_percentages, label=\"Correct\", color=\"green\")\n",
    "plt.bar(x, incorrect_percentages, bottom=correct_percentages, label=\"Incorrect\", color=\"red\")\n",
    "\n",
    "plt.xlabel(\"Class Labels\")\n",
    "plt.ylabel(\"Percentage\")\n",
    "plt.title(\"Correct vs Incorrect Predictions per Class\")\n",
    "plt.xticks(x, labels)\n",
    "plt.legend()\n",
    "plt.show()"
   ]
  },
  {
   "cell_type": "markdown",
   "id": "2511b6f7-4370-43f6-a8fd-5c60b3331881",
   "metadata": {
    "id": "2511b6f7-4370-43f6-a8fd-5c60b3331881"
   },
   "source": [
    "* What can we see from this? Briefly explain the problem."
   ]
  },
  {
   "cell_type": "markdown",
   "id": "8fa663bb-4208-477f-bc50-55f653709ce6",
   "metadata": {
    "id": "8fa663bb-4208-477f-bc50-55f653709ce6"
   },
   "source": [
    "___\n",
    "Student answers here:\n",
    "\n",
    "The proportion of correct predictions for most categories (such as Class 0, Class 1, Class 2, Class 3, Class 4) is very high (nearly 100%), indicating that the model performs relatively well on these categories.\n",
    "The error rate for Class 5 (in red) is significantly higher than the other classes, indicating that the model performs worse on this class.\n",
    "___"
   ]
  },
  {
   "cell_type": "markdown",
   "id": "415c7f51-88d7-42be-8897-b34b7332fe75",
   "metadata": {
    "id": "415c7f51-88d7-42be-8897-b34b7332fe75"
   },
   "source": [
    "* To investigate possible reasons for this imbalance, let's look at our dataset\n",
    "* Plot the train set class distribution as normalized percentages\n",
    "    * You can make use of the Hugging Face datasets object's `to_pandas()` method\n",
    "    * Then you can use all available data plotting and data handling techniques"
   ]
  },
  {
   "cell_type": "code",
   "execution_count": 14,
   "id": "ef3617d0-f3e4-4634-8325-2058c636f454",
   "metadata": {
    "id": "ef3617d0-f3e4-4634-8325-2058c636f454"
   },
   "outputs": [
    {
     "data": {
      "image/png": "[encoded data removed]",
      "text/plain": [
       "<Figure size 1000x600 with 1 Axes>"
      ]
     },
     "metadata": {},
     "output_type": "display_data"
    }
   ],
   "source": [
    "train_df = tokenized_datasets[\"train\"].to_pandas()\n",
    "\n",
    "label_counts = train_df[\"labels\"].value_counts()\n",
    "label_percentages = (label_counts / label_counts.sum()) * 100\n",
    "\n",
    "plt.figure(figsize=(10, 6))\n",
    "label_percentages.plot(kind=\"bar\", color=\"skyblue\", alpha=0.8)\n",
    "\n",
    "plt.xlabel(\"Class Labels\")\n",
    "plt.ylabel(\"Percentage (%)\")\n",
    "plt.title(\"Normalized Class Distribution in Training Set\")\n",
    "plt.xticks(rotation=45)\n",
    "plt.grid(axis=\"y\", linestyle=\"--\", alpha=0.7)\n",
    "plt.show()"
   ]
  },
  {
   "cell_type": "markdown",
   "id": "940e98ee-ee8d-4cdd-9b05-8055c257a771",
   "metadata": {
    "id": "940e98ee-ee8d-4cdd-9b05-8055c257a771"
   },
   "source": [
    "1) What problems can you imagine when seeing this class distribution?\n",
    "2) What problems could arise if we simply duplicated samples of the classes with fewer available samples?\n",
    "3) What problems could arise if we simply downsampled the majority classes to the number of minority samples?"
   ]
  },
  {
   "cell_type": "markdown",
   "id": "e70943ea-f474-469b-9d85-551b88b5da03",
   "metadata": {
    "id": "e70943ea-f474-469b-9d85-551b88b5da03"
   },
   "source": [
    "___\n",
    "Student answers here:\n",
    "\n",
    "1) the class distribution is extremely uneven. The proportion of Class 5 samples is significantly lower than that of other categories, while Class 0 and Class 1 samples account for the highest proportions. This imbalance can lead to the following problems\n",
    "\n",
    "2) Overfitting to minority classes: Since replicated samples are repetitive in nature, the model may overfit to these samples, resulting in decreased generalization ability for minority classes.\n",
    "Reduced training efficiency: Oversampling increases the size of the dataset, thereby increasing training time and memory requirements.\n",
    "Not addressing data bias: Replicating samples cannot change the bias of the original data, and the feature space of minority classes is still limited, which may make it difficult for the model to learn meaningful features.\n",
    "\n",
    "3) Information loss: Reducing the majority class samples will lead to the loss of important information and reduce the model's ability to learn the characteristics of these categories.\n",
    "Insufficient sample problem: For the downsampled dataset, the overall number of samples is reduced, which may lead to underfitting of the model, especially in complex tasks.\n",
    "The size of the aligned minority class is still insufficient: Even if the majority class is downsampled, the number of samples of the minority class may still be insufficient to capture its complexity characteristics.\n",
    "___"
   ]
  },
  {
   "cell_type": "markdown",
   "id": "a1e05c3a-0540-4c22-aff7-3642f1c71f3d",
   "metadata": {
    "id": "a1e05c3a-0540-4c22-aff7-3642f1c71f3d"
   },
   "source": [
    "How to deal with this class imbalance?\n",
    "\n",
    "* We can modify the loss function to assign weight coefficients to the losses of certain classes\n",
    "* Therefore, a wrong classification of a certain class is weighted higher or lower, depending on its coefficients we provided\n",
    "* How do we calculate these weights?\n",
    "    * We can make use of the existing normalized frequency distribution we plotted above\n",
    "    * But calculate the element-wise complement per label, i.e. `1 - probability`, so that each resulting label represents a weight between 0 and 1 for its own class\n",
    "    * You can check your calculation by adding element-wise the initial normalized label distribution to your weights, you should receive an array of 6 `1`s (ignoring floating point imprecisions)\n",
    "    * Transform the type to a `torch.float32` tensor, and move the tensor separately to the `device` you want\n",
    "        * Huggingface will use a GPU as soon as it finds one available, but this separate tensor needs to be moved manually\n",
    "* However, since the Hugging Face Trainer we used before abstracted away the option to define our loss function, we need to overwrite the `compute_loss` (see [here](https://huggingface.co/docs/transformers/main_classes/trainer#transformers.Trainer.compute_loss)) function of the Trainer\n",
    "* To accomplish that:\n",
    "    *  we inherint from the `Trainer` class\n",
    "    *  define a `compute_loss` function that takes in a `model`, `inputs`, and a `return_outputs=False` keyword\n",
    "    *  First, we calculate the model `outputs` by giving our model the `inputs`\n",
    "        *  our `inputs` consist of a collated batch of inputs that the tokenizer creates, along with a `'labels'`, all inside a dictionary\n",
    "        *  therefore, we need to use dictionary expansion to assign all keyword arguments in the `model`\n",
    "    *  the `outputs` from Hugging Face transformers, again, are a dictionary, so we need to extract their `'logits'` and assign them to a `logits` variable\n",
    "    *  then, we extract the `labels` from the input\n",
    "    *  create a `criterion` using our well known `nn.CrossEntropyLoss()`\n",
    "        *  inside `nn.CrossEntropyLoss()`, we now use the `weight` argument and assign our calculated weight coefficients to it\n",
    "    *  compute the loss\n",
    "    *  return `(loss, outputs) if return_outputs else loss`"
   ]
  },
  {
   "cell_type": "code",
   "execution_count": 15,
   "id": "3b84fda9-a689-458a-a35a-dbca8dc1affd",
   "metadata": {
    "id": "3b84fda9-a689-458a-a35a-dbca8dc1affd"
   },
   "outputs": [
    {
     "name": "stdout",
     "output_type": "stream",
     "text": [
      "Class Weights: tensor([0.6649, 0.7084, 0.8651, 0.8789, 0.9185, 0.9643])\n"
     ]
    }
   ],
   "source": [
    "total_samples = label_counts.sum()\n",
    "class_frequencies = label_counts / total_samples\n",
    "\n",
    "complement_weights = 1.0 - class_frequencies\n",
    "\n",
    "complement_weights = torch.tensor(complement_weights.values, dtype=torch.float32).to(\"cuda\" if torch.cuda.is_available() else \"cpu\")\n",
    "# print(\"Class Weights:\", complement_weights)"
   ]
  },
  {
   "cell_type": "code",
   "execution_count": 16,
   "id": "d509e6b5-e09e-4ca3-bf17-3115f2bbc3f7",
   "metadata": {
    "id": "d509e6b5-e09e-4ca3-bf17-3115f2bbc3f7"
   },
   "outputs": [],
   "source": [
    "class BalancedLossTrainer(Trainer):\n",
    "    def compute_loss(self, model, inputs, return_outputs=False):\n",
    "        labels = inputs.pop(\"labels\")\n",
    "        \n",
    "        outputs = model(**inputs)\n",
    "        logits = outputs.logits\n",
    "\n",
    "        criterion = nn.CrossEntropyLoss(weight=complement_weights)\n",
    "        loss = criterion(logits, labels)\n",
    "\n",
    "        return (loss, outputs) if return_outputs else loss"
   ]
  },
  {
   "cell_type": "markdown",
   "id": "4acf666a-ffe8-4c09-a2cb-e505c0021788",
   "metadata": {
    "id": "4acf666a-ffe8-4c09-a2cb-e505c0021788"
   },
   "source": [
    "* Now, we can go back and re-create a second `TrainingArguments` instance\n",
    "    * Keep all settings equal, just change the `output_dir` to something like `'./logs/run2'` so that our earlier results aren't overwritten or appended to, and we keep everything in one directory\n",
    "* Re-load a new BERT model, so you start pre-training again from the base pre-trained model\n",
    "* Incorporate the new instance of `TrainingArguments` into our `BalancedLossTrainer`\n",
    "* Run all training, evaluation, and testing steps again\n",
    "* Repeat the plotting of correct and incorrect percentages per class again\n",
    "    * Comment on the new F1 score. Did it change compared to before? Why or why not?\n",
    "    * Comment also on the new results and try to explain what happened"
   ]
  },
  {
   "cell_type": "code",
   "execution_count": 18,
   "id": "d4441570-c458-4868-a274-eac67e4ef650",
   "metadata": {
    "id": "d4441570-c458-4868-a274-eac67e4ef650"
   },
   "outputs": [
    {
     "name": "stderr",
     "output_type": "stream",
     "text": [
      "Some weights of the model checkpoint at bert-base-uncased were not used when initializing BertForSequenceClassification: ['cls.seq_relationship.bias', 'cls.predictions.bias', 'cls.seq_relationship.weight', 'cls.predictions.transform.dense.weight', 'cls.predictions.transform.LayerNorm.weight', 'cls.predictions.transform.dense.bias', 'cls.predictions.transform.LayerNorm.bias']\n",
      "- This IS expected if you are initializing BertForSequenceClassification from the checkpoint of a model trained on another task or with another architecture (e.g. initializing a BertForSequenceClassification model from a BertForPreTraining model).\n",
      "- This IS NOT expected if you are initializing BertForSequenceClassification from the checkpoint of a model that you expect to be exactly identical (initializing a BertForSequenceClassification model from a BertForSequenceClassification model).\n",
      "Some weights of BertForSequenceClassification were not initialized from the model checkpoint at bert-base-uncased and are newly initialized: ['classifier.weight', 'classifier.bias']\n",
      "You should probably TRAIN this model on a down-stream task to be able to use it for predictions and inference.\n"
     ]
    }
   ],
   "source": [
    "model = AutoModelForSequenceClassification.from_pretrained(\"bert-base-uncased\", num_labels=len(label_counts))"
   ]
  },
  {
   "cell_type": "code",
   "execution_count": 19,
   "id": "a5088fa3-fbad-4b16-abe1-e0ab9e9d1890",
   "metadata": {
    "id": "a5088fa3-fbad-4b16-abe1-e0ab9e9d1890"
   },
   "outputs": [],
   "source": [
    "training_args2 = TrainingArguments(\n",
    "    output_dir=\"./logs/run2\",  \n",
    "    per_device_train_batch_size=8,  \n",
    "    per_device_eval_batch_size=8,\n",
    "    gradient_accumulation_steps=2,\n",
    "    num_train_epochs=3,\n",
    "    evaluation_strategy=\"epoch\",\n",
    "    logging_dir=\"./logs/run2/logs\",\n",
    "    logging_strategy=\"steps\",\n",
    "    logging_steps=100,\n",
    "    save_strategy=\"epoch\",\n",
    "    save_total_limit=2,\n",
    "    load_best_model_at_end=True,\n",
    "    metric_for_best_model=\"f1\",\n",
    "    greater_is_better=True,\n",
    "    fp16=True,  \n",
    "    seed=42\n",
    ")"
   ]
  },
  {
   "cell_type": "code",
   "execution_count": 22,
   "id": "55f6bbcb-2fb6-4c12-aff9-4cbac1ad0a9e",
   "metadata": {
    "id": "55f6bbcb-2fb6-4c12-aff9-4cbac1ad0a9e"
   },
   "outputs": [],
   "source": [
    "trainer = BalancedLossTrainer(\n",
    "    model=model,\n",
    "    args=training_args2,\n",
    "    train_dataset=tokenized_datasets[\"train\"],\n",
    "    eval_dataset=tokenized_datasets[\"validation\"],\n",
    "    tokenizer=tokenizer,\n",
    "    compute_metrics=compute_metrics\n",
    ")"
   ]
  },
  {
   "cell_type": "code",
   "execution_count": 23,
   "id": "c722db60-ead1-4222-b1e7-0d3c662100ff",
   "metadata": {
    "id": "c722db60-ead1-4222-b1e7-0d3c662100ff"
   },
   "outputs": [
    {
     "name": "stderr",
     "output_type": "stream",
     "text": [
      "The following columns in the training set don't have a corresponding argument in `BertForSequenceClassification.forward` and have been ignored: text. If text are not expected by `BertForSequenceClassification.forward`,  you can safely ignore this message.\n",
      "C:\\ProgramData\\Anaconda3\\lib\\site-packages\\transformers\\optimization.py:306: FutureWarning: This implementation of AdamW is deprecated and will be removed in a future version. Use the PyTorch implementation torch.optim.AdamW instead, or set `no_deprecation_warning=True` to disable this warning\n",
      "  warnings.warn(\n",
      "***** Running training *****\n",
      "  Num examples = 16000\n",
      "  Num Epochs = 3\n",
      "  Instantaneous batch size per device = 8\n",
      "  Total train batch size (w. parallel, distributed & accumulation) = 16\n",
      "  Gradient Accumulation steps = 2\n",
      "  Total optimization steps = 3000\n",
      "  Number of trainable parameters = 109486854\n",
      "You're using a BertTokenizerFast tokenizer. Please note that with a fast tokenizer, using the `__call__` method is faster than using a method to encode the text followed by a call to the `pad` method to get a padded encoding.\n"
     ]
    },
    {
     "data": {
      "text/html": [
       "\n",
       "    <div>\n",
       "      \n",
       "      <progress value='3000' max='3000' style='width:300px; height:20px; vertical-align: middle;'></progress>\n",
       "      [3000/3000 12:10:51, Epoch 3/3]\n",
       "    </div>\n",
       "    <table border=\"1\" class=\"dataframe\">\n",
       "  <thead>\n",
       " <tr style=\"text-align: left;\">\n",
       "      <th>Epoch</th>\n",
       "      <th>Training Loss</th>\n",
       "      <th>Validation Loss</th>\n",
       "      <th>F1</th>\n",
       "    </tr>\n",
       "  </thead>\n",
       "  <tbody>\n",
       "    <tr>\n",
       "      <td>1</td>\n",
       "      <td>0.228100</td>\n",
       "      <td>0.237667</td>\n",
       "      <td>0.931035</td>\n",
       "    </tr>\n",
       "    <tr>\n",
       "      <td>2</td>\n",
       "      <td>0.136000</td>\n",
       "      <td>0.136471</td>\n",
       "      <td>0.945414</td>\n",
       "    </tr>\n",
       "    <tr>\n",
       "      <td>3</td>\n",
       "      <td>0.088500</td>\n",
       "      <td>0.181142</td>\n",
       "      <td>0.944163</td>\n",
       "    </tr>\n",
       "  </tbody>\n",
       "</table><p>"
      ],
      "text/plain": [
       "<IPython.core.display.HTML object>"
      ]
     },
     "metadata": {},
     "output_type": "display_data"
    },
    {
     "name": "stderr",
     "output_type": "stream",
     "text": [
      "The following columns in the evaluation set don't have a corresponding argument in `BertForSequenceClassification.forward` and have been ignored: text. If text are not expected by `BertForSequenceClassification.forward`,  you can safely ignore this message.\n",
      "***** Running Evaluation *****\n",
      "  Num examples = 2000\n",
      "  Batch size = 8\n",
      "Saving model checkpoint to ./logs/run2\\checkpoint-1000\n",
      "Configuration saved in ./logs/run2\\checkpoint-1000\\config.json\n",
      "Model weights saved in ./logs/run2\\checkpoint-1000\\pytorch_model.bin\n",
      "tokenizer config file saved in ./logs/run2\\checkpoint-1000\\tokenizer_config.json\n",
      "Special tokens file saved in ./logs/run2\\checkpoint-1000\\special_tokens_map.json\n",
      "The following columns in the evaluation set don't have a corresponding argument in `BertForSequenceClassification.forward` and have been ignored: text. If text are not expected by `BertForSequenceClassification.forward`,  you can safely ignore this message.\n",
      "***** Running Evaluation *****\n",
      "  Num examples = 2000\n",
      "  Batch size = 8\n",
      "Saving model checkpoint to ./logs/run2\\checkpoint-2000\n",
      "Configuration saved in ./logs/run2\\checkpoint-2000\\config.json\n",
      "Model weights saved in ./logs/run2\\checkpoint-2000\\pytorch_model.bin\n",
      "tokenizer config file saved in ./logs/run2\\checkpoint-2000\\tokenizer_config.json\n",
      "Special tokens file saved in ./logs/run2\\checkpoint-2000\\special_tokens_map.json\n",
      "The following columns in the evaluation set don't have a corresponding argument in `BertForSequenceClassification.forward` and have been ignored: text. If text are not expected by `BertForSequenceClassification.forward`,  you can safely ignore this message.\n",
      "***** Running Evaluation *****\n",
      "  Num examples = 2000\n",
      "  Batch size = 8\n",
      "Saving model checkpoint to ./logs/run2\\checkpoint-3000\n",
      "Configuration saved in ./logs/run2\\checkpoint-3000\\config.json\n",
      "Model weights saved in ./logs/run2\\checkpoint-3000\\pytorch_model.bin\n",
      "tokenizer config file saved in ./logs/run2\\checkpoint-3000\\tokenizer_config.json\n",
      "Special tokens file saved in ./logs/run2\\checkpoint-3000\\special_tokens_map.json\n",
      "Deleting older checkpoint [logs\\run2\\checkpoint-1000] due to args.save_total_limit\n",
      "\n",
      "\n",
      "Training completed. Do not forget to share your model on huggingface.co/models =)\n",
      "\n",
      "\n",
      "Loading best model from ./logs/run2\\checkpoint-2000 (score: 0.945414062119489).\n",
      "C:\\ProgramData\\Anaconda3\\lib\\site-packages\\transformers\\trainer.py:2024: FutureWarning: You are using `torch.load` with `weights_only=False` (the current default value), which uses the default pickle module implicitly. It is possible to construct malicious pickle data which will execute arbitrary code during unpickling (See https://github.com/pytorch/pytorch/blob/main/SECURITY.md#untrusted-models for more details). In a future release, the default value for `weights_only` will be flipped to `True`. This limits the functions that could be executed during unpickling. Arbitrary objects will no longer be allowed to be loaded via this mode unless they are explicitly allowlisted by the user via `torch.serialization.add_safe_globals`. We recommend you start setting `weights_only=True` for any use case where you don't have full control of the loaded file. Please open an issue on GitHub for any issues related to this experimental feature.\n",
      "  state_dict = torch.load(best_model_path, map_location=\"cpu\")\n"
     ]
    },
    {
     "data": {
      "text/plain": [
       "TrainOutput(global_step=3000, training_loss=0.2186982831954956, metrics={'train_runtime': 43901.7479, 'train_samples_per_second': 1.093, 'train_steps_per_second': 0.068, 'total_flos': 1.2629784231936e+16, 'train_loss': 0.2186982831954956, 'epoch': 3.0})"
      ]
     },
     "execution_count": 23,
     "metadata": {},
     "output_type": "execute_result"
    }
   ],
   "source": [
    "trainer.train()"
   ]
  },
  {
   "cell_type": "code",
   "execution_count": 29,
   "id": "d79524c1-0b42-4bfd-ace4-0cb786d2c428",
   "metadata": {
    "id": "d79524c1-0b42-4bfd-ace4-0cb786d2c428"
   },
   "outputs": [
    {
     "name": "stderr",
     "output_type": "stream",
     "text": [
      "The following columns in the test set don't have a corresponding argument in `BertForSequenceClassification.forward` and have been ignored: text. If text are not expected by `BertForSequenceClassification.forward`,  you can safely ignore this message.\n",
      "***** Running Prediction *****\n",
      "  Num examples = 2000\n",
      "  Batch size = 8\n"
     ]
    },
    {
     "data": {
      "text/html": [],
      "text/plain": [
       "<IPython.core.display.HTML object>"
      ]
     },
     "metadata": {},
     "output_type": "display_data"
    },
    {
     "name": "stdout",
     "output_type": "stream",
     "text": [
      "Test Results: {'test_loss': 0.18027490377426147, 'test_f1': 0.9313537648053397, 'test_runtime': 503.8331, 'test_samples_per_second': 3.97, 'test_steps_per_second': 0.496}\n"
     ]
    }
   ],
   "source": [
    "test_predictions = trainer.predict(tokenized_datasets[\"test\"])"
   ]
  },
  {
   "cell_type": "code",
   "execution_count": 31,
   "id": "f9b0d240",
   "metadata": {},
   "outputs": [
    {
     "name": "stdout",
     "output_type": "stream",
     "text": [
      "Test F1 Score: 0.9313537648053397\n"
     ]
    }
   ],
   "source": [
    "print(\"Test F1 Score:\", test_predictions.metrics[\"test_f1\"])"
   ]
  },
  {
   "cell_type": "code",
   "execution_count": 32,
   "id": "83faaec0-6cb9-4956-940e-d00d25469756",
   "metadata": {
    "id": "83faaec0-6cb9-4956-940e-d00d25469756"
   },
   "outputs": [
    {
     "data": {
      "image/png": "[encoded data removed]",
      "text/plain": [
       "<Figure size 640x480 with 1 Axes>"
      ]
     },
     "metadata": {},
     "output_type": "display_data"
    }
   ],
   "source": [
    "predictions = np.argmax(test_predictions.predictions, axis=1)  \n",
    "true_labels = test_predictions.label_ids \n",
    "\n",
    "num_classes = len(np.unique(true_labels))\n",
    "correct_counts = np.zeros(num_classes)\n",
    "incorrect_counts = np.zeros(num_classes)\n",
    "\n",
    "for i in range(len(true_labels)):\n",
    "    if predictions[i] == true_labels[i]:\n",
    "        correct_counts[true_labels[i]] += 1\n",
    "    else:\n",
    "        incorrect_counts[true_labels[i]] += 1\n",
    "\n",
    "total_counts = correct_counts + incorrect_counts\n",
    "correct_percentages = correct_counts / total_counts * 100\n",
    "incorrect_percentages = incorrect_counts / total_counts * 100\n",
    "\n",
    "labels = [f\"Class {i}\" for i in range(num_classes)]\n",
    "x = np.arange(num_classes)\n",
    "\n",
    "plt.bar(x, correct_percentages, label=\"Correct\", color=\"green\")\n",
    "plt.bar(x, incorrect_percentages, bottom=correct_percentages, label=\"Incorrect\", color=\"red\")\n",
    "\n",
    "plt.xlabel(\"Class Labels\")\n",
    "plt.ylabel(\"Percentage\")\n",
    "plt.title(\"Correct vs Incorrect Predictions per Class\")\n",
    "plt.xticks(x, labels)\n",
    "plt.legend()\n",
    "plt.show()"
   ]
  },
  {
   "cell_type": "markdown",
   "id": "61bbea8f-f026-45f9-9bce-ff1fc91e6937",
   "metadata": {
    "id": "61bbea8f-f026-45f9-9bce-ff1fc91e6937"
   },
   "source": [
    "___\n",
    "Student answers here:\n",
    "\n",
    "Compared with the previous F1 score (about 0.927), there is a slight improvement. This shows that after dealing with the class imbalance problem through the weighted loss function, the overall performance of the model on the test set has improved.\n",
    "\n",
    "Most categories (such as Class 0, Class 1, Class 2, and Class 3) maintain a high correct classification ratio (the green part is close to 100%).\n",
    "The misclassification ratio of Class 5 (the red part) has decreased. Compared with the previous bar chart, the model's recognition ability for minority categories has improved.\n",
    "___"
   ]
  },
  {
   "cell_type": "markdown",
   "id": "37211a4f-1007-43d2-8d64-e6b5e29b513f",
   "metadata": {
    "id": "37211a4f-1007-43d2-8d64-e6b5e29b513f"
   },
   "source": [
    "# Task 2: Text Summarization with T5\n",
    "In this task, we will use the [SamSum](https://huggingface.co/datasets/samsum) dataset, which is a collection of back-and-forth chats between people, and a narrator-style summary of the chat.\n",
    "We will fine-tune our T5 model on this dataset and experiment with it on our own invented chats to see its performance."
   ]
  },
  {
   "cell_type": "code",
   "execution_count": 12,
   "id": "e8b87c73-32c0-441a-910c-91129b5779e0",
   "metadata": {
    "id": "e8b87c73-32c0-441a-910c-91129b5779e0"
   },
   "outputs": [],
   "source": [
    "import os\n",
    "import numpy as np\n",
    "\n",
    "import torch\n",
    "\n",
    "import evaluate\n",
    "from datasets import load_dataset\n",
    "\n",
    "from transformers import (\n",
    "    AutoTokenizer,\n",
    "    pipeline,\n",
    "    Seq2SeqTrainingArguments,\n",
    "    Seq2SeqTrainer,\n",
    "    DataCollatorForSeq2Seq,\n",
    "    AutoModelForSeq2SeqLM,\n",
    ")"
   ]
  },
  {
   "cell_type": "code",
   "execution_count": 2,
   "id": "a254090d-56b9-474c-b3f1-011c8b707692",
   "metadata": {
    "id": "a254090d-56b9-474c-b3f1-011c8b707692"
   },
   "outputs": [],
   "source": [
    "device = 'cuda:0' if torch.cuda.is_available() else 'cpu'\n",
    "os.environ['TOKENIZERS_PARALLELISM'] = 'false' "
   ]
  },
  {
   "cell_type": "markdown",
   "id": "0e57cc35-bc28-4881-aec1-1e3e02df9b19",
   "metadata": {
    "id": "0e57cc35-bc28-4881-aec1-1e3e02df9b19"
   },
   "source": [
    "* Download the dataset from the Hugging Face Hub"
   ]
  },
  {
   "cell_type": "code",
   "execution_count": 3,
   "id": "575512e5-9b1a-4250-9c61-c6dbc24b5848",
   "metadata": {
    "id": "575512e5-9b1a-4250-9c61-c6dbc24b5848"
   },
   "outputs": [],
   "source": [
    "samsum = load_dataset(\"samsum\", trust_remote_code=True)"
   ]
  },
  {
   "cell_type": "markdown",
   "id": "26d9f4e7-80ff-42ac-9526-884e69f9875c",
   "metadata": {
    "id": "26d9f4e7-80ff-42ac-9526-884e69f9875c"
   },
   "source": [
    "* Use Hugging Face's `pipeline` interface to see the non-finetuned performance of our model.\n",
    "* Load the [T5-small](https://huggingface.co/t5-small) model inside the [pipeline](https://huggingface.co/docs/transformers/main_classes/pipelines#pipelines) object, along with the `task=summarization` attribute.\n",
    "* Pick a sample from the [SamSum Test Set](https://huggingface.co/datasets/samsum/viewer/samsum/test). You can directly copy it from the website if you like.\n",
    "* Input it into the created pipeline object and check the result.\n",
    "    * In case of memory problems later on during fine-tuning, `del` the pipeline object to free up memory afterwards.\n",
    "* Comment: How well did it work?\n"
   ]
  },
  {
   "cell_type": "code",
   "execution_count": 4,
   "id": "b1db252a-ad67-4397-a693-554493564d6f",
   "metadata": {
    "id": "b1db252a-ad67-4397-a693-554493564d6f"
   },
   "outputs": [],
   "source": [
    "pipe = pipeline(\"summarization\", model=\"t5-small\", tokenizer=\"t5-small\")"
   ]
  },
  {
   "cell_type": "code",
   "execution_count": 5,
   "id": "c4eba82f-66b4-4d28-900b-348a63a944d1",
   "metadata": {
    "id": "c4eba82f-66b4-4d28-900b-348a63a944d1"
   },
   "outputs": [
    {
     "name": "stderr",
     "output_type": "stream",
     "text": [
      "Your max_length is set to 200, but you input_length is only 133. You might consider decreasing max_length manually, e.g. summarizer('...', max_length=66)\n"
     ]
    },
    {
     "name": "stdout",
     "output_type": "stream",
     "text": [
      "Original Dialogue:\n",
      " Hannah: Hey, do you have Betty's number?\n",
      "Amanda: Lemme check\n",
      "Hannah: <file_gif>\n",
      "Amanda: Sorry, can't find it.\n",
      "Amanda: Ask Larry\n",
      "Amanda: He called her last time we were at the park together\n",
      "Hannah: I don't know him well\n",
      "Hannah: <file_gif>\n",
      "Amanda: Don't be shy, he's very nice\n",
      "Hannah: If you say so..\n",
      "Hannah: I'd rather you texted him\n",
      "Amanda: Just text him 🙂\n",
      "Hannah: Urgh.. Alright\n",
      "Hannah: Bye\n",
      "Amanda: Bye bye\n",
      "\n",
      "Generated Summary:\n",
      " Amanda: Lemme check Hannah: file_gif> Amanda: Sorry, can't find it . he called her last time we were at the park together Hannah: I don't know him well .\n"
     ]
    }
   ],
   "source": [
    "sample_dialogue = samsum[\"test\"][0][\"dialogue\"]\n",
    "print(\"Original Dialogue:\\n\", sample_dialogue)\n",
    "summary = pipe(sample_dialogue)\n",
    "print(\"\\nGenerated Summary:\\n\", summary[0][\"summary_text\"])"
   ]
  },
  {
   "cell_type": "markdown",
   "id": "d6b258c2-9ecc-4c24-9bc6-8479fffad285",
   "metadata": {
    "id": "d6b258c2-9ecc-4c24-9bc6-8479fffad285"
   },
   "source": [
    "___\n",
    "Student answers here:\n",
    "\n",
    "Instead of successfully generating a concise summary, the model simply captured parts of the original conversation.\n",
    "___"
   ]
  },
  {
   "cell_type": "markdown",
   "id": "1608e2f0-dde3-4f7b-95f4-cdbaad81f1be",
   "metadata": {
    "id": "1608e2f0-dde3-4f7b-95f4-cdbaad81f1be"
   },
   "source": [
    "* Then, we will load [T5's](https://huggingface.co/t5-small) `t5-small` tokenizer, again using `AutoTokenizer` from before"
   ]
  },
  {
   "cell_type": "code",
   "execution_count": 6,
   "id": "701bfc05-bc7d-405e-afec-6b09b9e42c86",
   "metadata": {
    "id": "701bfc05-bc7d-405e-afec-6b09b9e42c86"
   },
   "outputs": [],
   "source": [
    "tokenizer = AutoTokenizer.from_pretrained(\"t5-small\")"
   ]
  },
  {
   "cell_type": "markdown",
   "id": "4c5ab0c8-4388-4163-95f1-102a8fef3085",
   "metadata": {
    "id": "4c5ab0c8-4388-4163-95f1-102a8fef3085"
   },
   "source": [
    "T5 is a sequence-to-sequence encoder-decoder model, meaning that it takes sequences as input, transforms them, and outputs target sequences. The model can be used for translation, classification, summarization, and much more, given the correct input prompts.\n",
    "\n",
    "As we are dealing with a summarization task, we need to preface our sequences with the necessary `'summarize: '` prompt.\n",
    "* Write a preprocess function which takes in a dataset split and prefaces every input sequence with the string `'summarize: '`\n",
    "* Afterwards, use the tokenizer with the arguments `truncation=True` and `max_length=512` to limit the maximum lengths of all inputs, and tokenize all sequences\n",
    "* Then, separately transform the target sequences using `truncation=True` with a `max_length=128`\n",
    "* Extract the `input_ids` from the transformed target sequences and add them to the the dictionary output of the transformed input sequences with the key `labels`\n",
    "* Return the dictionary object afterwards"
   ]
  },
  {
   "cell_type": "code",
   "execution_count": 7,
   "id": "1d7d0c26-fe49-4224-93a6-40d484c500fc",
   "metadata": {
    "id": "1d7d0c26-fe49-4224-93a6-40d484c500fc"
   },
   "outputs": [],
   "source": [
    "def preprocess_summarization(split):\n",
    "    \n",
    "    inputs = [\"summarize: \" + dialogue for dialogue in split[\"dialogue\"]]\n",
    "    model_inputs = tokenizer(inputs, max_length=512, truncation=True, padding=\"max_length\")\n",
    "    with tokenizer.as_target_tokenizer():\n",
    "        labels = tokenizer(split[\"summary\"], max_length=128, truncation=True, padding=\"max_length\") \n",
    "    model_inputs[\"labels\"] = labels[\"input_ids\"]\n",
    "    \n",
    "    return model_inputs"
   ]
  },
  {
   "cell_type": "markdown",
   "id": "0727e745-bfab-4612-aa30-3b78e6defa2e",
   "metadata": {
    "id": "0727e745-bfab-4612-aa30-3b78e6defa2e"
   },
   "source": [
    "* As before with the classification task, `map` the preprocessing function onto the entire dataset using the `batched=True` option"
   ]
  },
  {
   "cell_type": "code",
   "execution_count": 8,
   "id": "310ee61b-5b80-43a0-8a5d-d76c69dddff2",
   "metadata": {
    "id": "310ee61b-5b80-43a0-8a5d-d76c69dddff2"
   },
   "outputs": [
    {
     "data": {
      "application/vnd.jupyter.widget-view+json": {
       "model_id": "63c8d91416c34f03bfbe78073bd0f5fd",
       "version_major": 2,
       "version_minor": 0
      },
      "text/plain": [
       "Map:   0%|          | 0/819 [00:00<?, ? examples/s]"
      ]
     },
     "metadata": {},
     "output_type": "display_data"
    },
    {
     "name": "stderr",
     "output_type": "stream",
     "text": [
      "C:\\ProgramData\\Anaconda3\\lib\\site-packages\\transformers\\tokenization_utils_base.py:3546: UserWarning: `as_target_tokenizer` is deprecated and will be removed in v5 of Transformers. You can tokenize your labels by using the argument `text_target` of the regular `__call__` method (either in the same call as your input texts if you use the same keyword arguments, or in a separate call.\n",
      "  warnings.warn(\n"
     ]
    }
   ],
   "source": [
    "tokenized_samsum = samsum.map(preprocess_summarization, batched=True)"
   ]
  },
  {
   "cell_type": "markdown",
   "id": "aa2b20fa-e22d-42d1-b40f-4414b9f2a819",
   "metadata": {
    "id": "aa2b20fa-e22d-42d1-b40f-4414b9f2a819"
   },
   "source": [
    "* As the next step, we create a `collator` [object](https://huggingface.co/docs/transformers/v4.31.0/en/main_classes/data_collator#transformers.DataCollatorForSeq2Seq), which takes in the `tokenizer` and our `model`\n",
    "    * At this stage, it is fine to just write `model='t5-small'` as input to the collator"
   ]
  },
  {
   "cell_type": "code",
   "execution_count": 9,
   "id": "611afa55-9d71-4a5f-8017-3abce46ccd51",
   "metadata": {
    "id": "611afa55-9d71-4a5f-8017-3abce46ccd51"
   },
   "outputs": [],
   "source": [
    "collator = DataCollatorForSeq2Seq(tokenizer=tokenizer, model=\"t5-small\")"
   ]
  },
  {
   "cell_type": "markdown",
   "id": "2119c26e-7549-4995-a05d-1374c1e7b85c",
   "metadata": {
    "id": "2119c26e-7549-4995-a05d-1374c1e7b85c"
   },
   "source": [
    "* To evaluate our model's summarization performance, we employ the [ROUGE](https://huggingface.co/spaces/evaluate-metric/rouge) score.\n",
    "* Advantages include:\n",
    "    * The ROUGE (Recall-Oriented Understudy for Gisting Evaluation) is a metric commonly used for evaluating the quality of machine-generated text, particularly summaries\n",
    "    * ROUGE measures the similarity between the generated summary and one or more reference (human-written) summaries\n",
    "    * ROUGE provides a standardized way to evaluate the quality of text summaries, which is important for at-scale comparison between different summarization models\n",
    "    * ROUGE includes multiple metrics, such as ROUGE-N (for n-grams), ROUGE-L (for longest common subsequence), and ROUGE-W (for weighted n-grams). Depending on the task, these metrics capture different aspects of summary quality, allowing a more comprehensive evaluation.\n",
    "* Disadvantages include:\n",
    "    * ROUGE relies on exact word or n-gram matches, which may not capture the semantic meaning well. Two sentences with similar meaning but slightly different phrasing might receive a low ROUGE score. (You can use the above link to play around with some references and generated sequences)\n",
    "    * ROUGE does not consider the order of words or phrases. If a model generates a summary with words or phrases in a different order than the reference, even if the content is correct, the ROUGE score might be lower.\n",
    "    * ROUGE measures lexical overlap and does not consider deeper linguistic structures or coherence in summaries.\n",
    "* Load the `rouge` score from the `evaluate` library"
   ]
  },
  {
   "cell_type": "code",
   "execution_count": 13,
   "id": "cd578c4e-47c9-4d6d-bd4d-91a509cf8129",
   "metadata": {
    "id": "cd578c4e-47c9-4d6d-bd4d-91a509cf8129"
   },
   "outputs": [],
   "source": [
    "rouge = evaluate.load(\"rouge\")"
   ]
  },
  {
   "cell_type": "markdown",
   "id": "ba798853-94c9-4013-9fbb-514e1d166dd7",
   "metadata": {
    "id": "ba798853-94c9-4013-9fbb-514e1d166dd7"
   },
   "source": [
    "* Then, we need to define our `compute_metrics` function, but this time for the ROUGE score\n",
    "* At first, we receive again our tuple of `EvalPred` predictions and labels, which is also the input to our function\n",
    "    * Split up the input tuple by extracting the labels and predictions\n",
    "    * In the T5 case, the predictions are again a tuple of `(logits, hidden_representations)`\n",
    "    * For our task, extract only the logits\n",
    "    * Apply `argmax()` on the last dimension of the logits to get the predictions\n",
    "* Then, we use our `tokenizer` to `batch_decode` the argmaxed logits\n",
    "    * Here, we activate the tokenizer setting `skip_special_tokens=True`, and `clean_up_tokenization_spaces=True`\n",
    "* Before we can decode our labels, we must first replace the padding tokens of the labels batch, represented by the value `-100`, with the actual padding tokens of the tokenizer\n",
    "    * The `-100` are a convention of the `Seq2SeqTrainer`, and don't have any deeper meaning\n",
    "    * the padding token can be accessed by `tokenizer.pad_token_id`\n",
    "* Then, we also `batch_decode` the labels\n",
    "    * Also skip the special tokens, but no need clean up tokenization spaces since we handled them separately\n",
    "* Afterwards, we input both decoded predictions and labels into the `rouge.compute` function\n",
    "* That result dictionary is returned\n",
    "    * Optionally, round all numbers in the result dictionary to 4 or 6 digits, whichever format you prefer"
   ]
  },
  {
   "cell_type": "code",
   "execution_count": 14,
   "id": "df12172f-7fc2-437d-b167-b843f694d3b1",
   "metadata": {
    "id": "df12172f-7fc2-437d-b167-b843f694d3b1"
   },
   "outputs": [],
   "source": [
    "def compute_metrics(eval_preds):\n",
    "    preds, labels = eval_preds\n",
    "    decoded_preds = tokenizer.batch_decode(preds, skip_special_tokens=True, clean_up_tokenization_spaces=True)\n",
    "    \n",
    "    labels = np.where(labels != -100, labels, tokenizer.pad_token_id)\n",
    "    decoded_labels = tokenizer.batch_decode(labels, skip_special_tokens=True, clean_up_tokenization_spaces=True)\n",
    "    \n",
    "    result = rouge.compute(predictions=decoded_preds, references=decoded_labels)\n",
    "    result = {key: round(value, 4) for key, value in result.items()}\n",
    "    \n",
    "    return result"
   ]
  },
  {
   "cell_type": "markdown",
   "id": "41dff509-090d-4f01-a5dc-b02ecacc7069",
   "metadata": {
    "id": "41dff509-090d-4f01-a5dc-b02ecacc7069"
   },
   "source": [
    "* Then we create a `Seq2SeqTrainingArguments` [instance](https://huggingface.co/docs/transformers/v4.31.0/en/main_classes/trainer#transformers.Seq2SeqTrainingArguments), which is just a specialized version of our general `TrainingArguments` function from before.\n",
    "* In our case, we can base our settings on the training arguments from BERT classification, except:\n",
    "    * Since we now have longer sequences, it might be necessary to reduce batch sizes even more, so experiment a bit with your GPU memory availability\n",
    "        * Try to max-out your GPU memory by increasing the batch size as much as possible to speed up training\n",
    "    * change the `output_dir` to something under the same path from before, e.g. `'./logs/run3/'`\n",
    "* Once created, load the model using the `AutoModelForSeq2SeqLM`\n",
    "* Instantiate a `Seq2SeqTrainer` [object](https://huggingface.co/docs/transformers/v4.31.0/en/main_classes/trainer#transformers.Seq2SeqTrainer) in the same style as before\n",
    "    * This time, we just need to add the `collator` object to the `data_collator` argument\n",
    "* Call the `train()` method and start training\n",
    "* Comment briefly on the training progress"
   ]
  },
  {
   "cell_type": "code",
   "execution_count": 16,
   "id": "384c2efe-6aa7-4ad6-9705-bf4dffef05cf",
   "metadata": {
    "id": "384c2efe-6aa7-4ad6-9705-bf4dffef05cf"
   },
   "outputs": [],
   "source": [
    "training_args3 = Seq2SeqTrainingArguments(\n",
    "    output_dir=\"./logs/run3/\",  \n",
    "    per_device_train_batch_size=4,  \n",
    "    per_device_eval_batch_size=4,  \n",
    "    predict_with_generate=True,  \n",
    "    evaluation_strategy=\"epoch\",  \n",
    "    save_strategy=\"epoch\",  \n",
    "    logging_dir=\"./logs/run3/logs\",  \n",
    "    logging_strategy=\"steps\",  \n",
    "    logging_steps=500,  \n",
    "    save_total_limit=2,  \n",
    "    num_train_epochs=3,  \n",
    "    fp16=True,  \n",
    "    dataloader_num_workers=2,  \n",
    "    load_best_model_at_end=True,  \n",
    "    metric_for_best_model=\"rouge1\",  \n",
    "    greater_is_better=True,  \n",
    "    seed=42,  \n",
    ")\n",
    "\n",
    "model = AutoModelForSeq2SeqLM.from_pretrained(\"t5-small\")\n",
    "\n",
    "trainer = Seq2SeqTrainer(\n",
    "    model=model,  \n",
    "    args=training_args3,  \n",
    "    train_dataset=tokenized_samsum[\"train\"],  \n",
    "    eval_dataset=tokenized_samsum[\"validation\"],  \n",
    "    tokenizer=tokenizer,  \n",
    "    data_collator=collator,  \n",
    "    compute_metrics=compute_metrics,  \n",
    ")"
   ]
  },
  {
   "cell_type": "code",
   "execution_count": 18,
   "id": "cc7c72cb",
   "metadata": {},
   "outputs": [
    {
     "name": "stderr",
     "output_type": "stream",
     "text": [
      "The following columns in the training set don't have a corresponding argument in `T5ForConditionalGeneration.forward` and have been ignored: dialogue, summary, id. If dialogue, summary, id are not expected by `T5ForConditionalGeneration.forward`,  you can safely ignore this message.\n",
      "***** Running training *****\n",
      "  Num examples = 14732\n",
      "  Num Epochs = 3\n",
      "  Instantaneous batch size per device = 4\n",
      "  Total train batch size (w. parallel, distributed & accumulation) = 4\n",
      "  Gradient Accumulation steps = 1\n",
      "  Total optimization steps = 11049\n",
      "  Number of trainable parameters = 60506624\n"
     ]
    },
    {
     "data": {
      "text/html": [
       "\n",
       "    <div>\n",
       "      \n",
       "      <progress value='11049' max='11049' style='width:300px; height:20px; vertical-align: middle;'></progress>\n",
       "      [11049/11049 7:23:30, Epoch 3/3]\n",
       "    </div>\n",
       "    <table border=\"1\" class=\"dataframe\">\n",
       "  <thead>\n",
       " <tr style=\"text-align: left;\">\n",
       "      <th>Epoch</th>\n",
       "      <th>Training Loss</th>\n",
       "      <th>Validation Loss</th>\n",
       "      <th>Rouge1</th>\n",
       "      <th>Rouge2</th>\n",
       "      <th>Rougel</th>\n",
       "      <th>Rougelsum</th>\n",
       "    </tr>\n",
       "  </thead>\n",
       "  <tbody>\n",
       "    <tr>\n",
       "      <td>1</td>\n",
       "      <td>0.437600</td>\n",
       "      <td>0.394717</td>\n",
       "      <td>0.408300</td>\n",
       "      <td>0.183900</td>\n",
       "      <td>0.344800</td>\n",
       "      <td>0.345000</td>\n",
       "    </tr>\n",
       "    <tr>\n",
       "      <td>2</td>\n",
       "      <td>0.421700</td>\n",
       "      <td>0.385695</td>\n",
       "      <td>0.415700</td>\n",
       "      <td>0.192800</td>\n",
       "      <td>0.352600</td>\n",
       "      <td>0.352200</td>\n",
       "    </tr>\n",
       "    <tr>\n",
       "      <td>3</td>\n",
       "      <td>0.421700</td>\n",
       "      <td>0.384190</td>\n",
       "      <td>0.419500</td>\n",
       "      <td>0.194900</td>\n",
       "      <td>0.356100</td>\n",
       "      <td>0.355800</td>\n",
       "    </tr>\n",
       "  </tbody>\n",
       "</table><p>"
      ],
      "text/plain": [
       "<IPython.core.display.HTML object>"
      ]
     },
     "metadata": {},
     "output_type": "display_data"
    },
    {
     "name": "stderr",
     "output_type": "stream",
     "text": [
      "The following columns in the evaluation set don't have a corresponding argument in `T5ForConditionalGeneration.forward` and have been ignored: dialogue, summary, id. If dialogue, summary, id are not expected by `T5ForConditionalGeneration.forward`,  you can safely ignore this message.\n",
      "***** Running Evaluation *****\n",
      "  Num examples = 818\n",
      "  Batch size = 4\n",
      "Saving model checkpoint to ./logs/run3/checkpoint-3683\n",
      "Configuration saved in ./logs/run3/checkpoint-3683\\config.json\n",
      "Model weights saved in ./logs/run3/checkpoint-3683\\pytorch_model.bin\n",
      "tokenizer config file saved in ./logs/run3/checkpoint-3683\\tokenizer_config.json\n",
      "Special tokens file saved in ./logs/run3/checkpoint-3683\\special_tokens_map.json\n",
      "The following columns in the evaluation set don't have a corresponding argument in `T5ForConditionalGeneration.forward` and have been ignored: dialogue, summary, id. If dialogue, summary, id are not expected by `T5ForConditionalGeneration.forward`,  you can safely ignore this message.\n",
      "***** Running Evaluation *****\n",
      "  Num examples = 818\n",
      "  Batch size = 4\n",
      "Saving model checkpoint to ./logs/run3/checkpoint-7366\n",
      "Configuration saved in ./logs/run3/checkpoint-7366\\config.json\n",
      "Model weights saved in ./logs/run3/checkpoint-7366\\pytorch_model.bin\n",
      "tokenizer config file saved in ./logs/run3/checkpoint-7366\\tokenizer_config.json\n",
      "Special tokens file saved in ./logs/run3/checkpoint-7366\\special_tokens_map.json\n",
      "The following columns in the evaluation set don't have a corresponding argument in `T5ForConditionalGeneration.forward` and have been ignored: dialogue, summary, id. If dialogue, summary, id are not expected by `T5ForConditionalGeneration.forward`,  you can safely ignore this message.\n",
      "***** Running Evaluation *****\n",
      "  Num examples = 818\n",
      "  Batch size = 4\n",
      "Saving model checkpoint to ./logs/run3/checkpoint-11049\n",
      "Configuration saved in ./logs/run3/checkpoint-11049\\config.json\n",
      "Model weights saved in ./logs/run3/checkpoint-11049\\pytorch_model.bin\n",
      "tokenizer config file saved in ./logs/run3/checkpoint-11049\\tokenizer_config.json\n",
      "Special tokens file saved in ./logs/run3/checkpoint-11049\\special_tokens_map.json\n",
      "Deleting older checkpoint [logs\\run3\\checkpoint-3683] due to args.save_total_limit\n",
      "\n",
      "\n",
      "Training completed. Do not forget to share your model on huggingface.co/models =)\n",
      "\n",
      "\n",
      "Loading best model from ./logs/run3/checkpoint-11049 (score: 0.4195).\n",
      "C:\\ProgramData\\Anaconda3\\lib\\site-packages\\transformers\\trainer.py:2024: FutureWarning: You are using `torch.load` with `weights_only=False` (the current default value), which uses the default pickle module implicitly. It is possible to construct malicious pickle data which will execute arbitrary code during unpickling (See https://github.com/pytorch/pytorch/blob/main/SECURITY.md#untrusted-models for more details). In a future release, the default value for `weights_only` will be flipped to `True`. This limits the functions that could be executed during unpickling. Arbitrary objects will no longer be allowed to be loaded via this mode unless they are explicitly allowlisted by the user via `torch.serialization.add_safe_globals`. We recommend you start setting `weights_only=True` for any use case where you don't have full control of the loaded file. Please open an issue on GitHub for any issues related to this experimental feature.\n",
      "  state_dict = torch.load(best_model_path, map_location=\"cpu\")\n",
      "The following columns in the evaluation set don't have a corresponding argument in `T5ForConditionalGeneration.forward` and have been ignored: dialogue, summary, id. If dialogue, summary, id are not expected by `T5ForConditionalGeneration.forward`,  you can safely ignore this message.\n",
      "***** Running Evaluation *****\n",
      "  Num examples = 818\n",
      "  Batch size = 4\n"
     ]
    },
    {
     "data": {
      "text/html": [
       "\n",
       "    <div>\n",
       "      \n",
       "      <progress value='205' max='205' style='width:300px; height:20px; vertical-align: middle;'></progress>\n",
       "      [205/205 05:28]\n",
       "    </div>\n",
       "    "
      ],
      "text/plain": [
       "<IPython.core.display.HTML object>"
      ]
     },
     "metadata": {},
     "output_type": "display_data"
    },
    {
     "name": "stdout",
     "output_type": "stream",
     "text": [
      "Evaluation Results: {'eval_loss': 0.38418951630592346, 'eval_rouge1': 0.4195, 'eval_rouge2': 0.1949, 'eval_rougeL': 0.3561, 'eval_rougeLsum': 0.3558, 'eval_runtime': 336.2857, 'eval_samples_per_second': 2.432, 'eval_steps_per_second': 0.61, 'epoch': 3.0}\n"
     ]
    }
   ],
   "source": [
    "trainer.train()\n",
    "eval_results = trainer.evaluate()\n",
    "print(\"Evaluation Results:\", eval_results)"
   ]
  },
  {
   "cell_type": "markdown",
   "id": "248d3881-7ffc-493f-ba2e-0594560e3e98",
   "metadata": {
    "id": "248d3881-7ffc-493f-ba2e-0594560e3e98"
   },
   "source": [
    "___\n",
    "Student answers here:\n",
    "\n",
    "Loss curve:\n",
    "\n",
    "Training Loss and Validation Loss are gradually decreasing, indicating that the model is learning stably.\n",
    "The final Training Loss and Validation Loss are 0.4217 and 0.3842 respectively.\n",
    "Rouge indicators:\n",
    "\n",
    "Rouge1, Rouge2, RougeL and Rougesum indicators are gradually increasing, indicating that the quality of the summary generated by the model is gradually improving.\n",
    "In the end, Rouge1 = 0.4195, Rouge2 = 0.1949, RougeL = 0.3561, and the overall performance is good.\n",
    "___"
   ]
  },
  {
   "cell_type": "markdown",
   "id": "3ad1afc9-c18a-4eef-9026-b569dff590ec",
   "metadata": {
    "id": "3ad1afc9-c18a-4eef-9026-b569dff590ec"
   },
   "source": [
    "* As the last step of this exercise, move the `model`, which represents the already loaded best model due to our `Seq2SeqTrainingArguments` settings, to the CPU and input it into a new `pipeline` object as the `model=` keyword.\n",
    "* Additionally, prove the `tokenizer=` argument\n",
    "* Then, fill in your chosen test set sample from before\n",
    "* Compare the results to your initial, pre fine-tuning output and discuss what got better or worse\n",
    "* Comment on whether the narrator-style summary performance increased"
   ]
  },
  {
   "cell_type": "code",
   "execution_count": 19,
   "id": "a74f6176-f248-4582-83bb-16c440774ce1",
   "metadata": {
    "id": "a74f6176-f248-4582-83bb-16c440774ce1"
   },
   "outputs": [],
   "source": [
    "pipe = pipeline(\"summarization\", model=model.to(\"cpu\"), tokenizer=tokenizer)"
   ]
  },
  {
   "cell_type": "code",
   "execution_count": 20,
   "id": "f048bdb0-42f9-4586-8a30-e49bd48a8f22",
   "metadata": {
    "id": "f048bdb0-42f9-4586-8a30-e49bd48a8f22"
   },
   "outputs": [
    {
     "name": "stderr",
     "output_type": "stream",
     "text": [
      "Your max_length is set to 200, but you input_length is only 133. You might consider decreasing max_length manually, e.g. summarizer('...', max_length=66)\n"
     ]
    },
    {
     "name": "stdout",
     "output_type": "stream",
     "text": [
      "Original Dialogue:\n",
      " Hannah: Hey, do you have Betty's number?\n",
      "Amanda: Lemme check\n",
      "Hannah: <file_gif>\n",
      "Amanda: Sorry, can't find it.\n",
      "Amanda: Ask Larry\n",
      "Amanda: He called her last time we were at the park together\n",
      "Hannah: I don't know him well\n",
      "Hannah: <file_gif>\n",
      "Amanda: Don't be shy, he's very nice\n",
      "Hannah: If you say so..\n",
      "Hannah: I'd rather you texted him\n",
      "Amanda: Just text him 🙂\n",
      "Hannah: Urgh.. Alright\n",
      "Hannah: Bye\n",
      "Amanda: Bye bye\n",
      "\n",
      "Generated Summary:\n",
      " Larry called Betty last time she was at the park together. He called her last time they were there together. Hannah would rather text Betty's number.\n"
     ]
    }
   ],
   "source": [
    "sample_dialogue = tokenized_samsum[\"test\"][0][\"dialogue\"]\n",
    "print(\"Original Dialogue:\\n\", sample_dialogue)\n",
    "\n",
    "summary = pipe(sample_dialogue)\n",
    "print(\"\\nGenerated Summary:\\n\", summary[0][\"summary_text\"])"
   ]
  },
  {
   "cell_type": "markdown",
   "id": "a5c8ac38-1b16-4a42-aa24-e85c2a14a536",
   "metadata": {
    "id": "a5c8ac38-1b16-4a42-aa24-e85c2a14a536"
   },
   "source": [
    "___\n",
    "Student answers here:\n",
    "\n",
    "Before fine-tuning, the summaries generated by the model were very confusing and often simply copied snippets of conversations.\n",
    "After fine-tuning, the resulting summary is more logical and focuses on the key events of the conversation (Larry and Betty's connection).\n",
    "Overall, fine-tuning significantly improved the performance of the model.\n",
    "___"
   ]
  },
  {
   "cell_type": "markdown",
   "id": "0e576fcf-04ba-497d-9bc7-734bcff18979",
   "metadata": {
    "id": "0e576fcf-04ba-497d-9bc7-734bcff18979"
   },
   "source": [
    "# Inspect and share all your experiment results via TensorBoard (bonus)"
   ]
  },
  {
   "cell_type": "markdown",
   "id": "acb91278-d706-4daa-9521-8baa50996218",
   "metadata": {
    "id": "acb91278-d706-4daa-9521-8baa50996218"
   },
   "source": [
    "* While we now only had 3 runtime variations, in practice we often have tens or hundreds of hyperparameter and/or model combinatinations\n",
    "* To assemble manual train/val/test plots, scale all x- and y-axes for various units, and plot all desired combinations side by side is very cumbersome and time consuming\n",
    "* Services like [tensorboard-dev](https://tensorboard.dev/) and [tensorboard in general](https://www.tensorflow.org/tensorboard) offer the possibility to simply read in our created `'logs'` directory, which enables us to browse through an online interface of automatically generated plots for all our tracked metrics\n",
    "* Install (if you don't already have it) `tensorboard` via `pip install -U tensorboard)` and either:\n",
    "    * Upload your `'logs'` directly to Google (requires a Google account and consent to store the specific `'logs'` directory on Google's servers)\n",
    "        * execute on your command line `tensorboard dev upload --logdir logs --name \"whatever-name-you-want-to-call-it\"`\n",
    "        * then you will need to login to your Google account, consent to uploading the `'logs'` directory, and a shareable link will appear as command line output\n",
    "        * the link will lead you to the hosted experiment plots\n",
    "        * FYI: it is also possible to delete uploaded tensorboards via `tensorboard dev delete --experiment_id EXPERIMENT_ID`\n",
    "    * If you don't want to upload your experiments to Google or don't have a Google account, you can achieve the same browsable layout on your local machine\n",
    "    * execute on your command line `tensorboard --logdir logs`\n",
    "    * a localhost instance, usually on `https://localhost:6006/`, will open\n",
    "* Choose one of the above options to visualize your experiments in tensorboard\n",
    "* Include a screenshot of the results in the notebook submission of this exercise\n",
    "    * You can embed images in Jupyerlab in markdown cells [as described here](https://stackoverflow.com/questions/41604263/how-do-i-display-local-image-in-markdown)\n",
    "    * Also send us the screenshot file with it, otherwise we can't see your embedded image in the notebook\n",
    "* Last note: You aren't dependend on Hugging Face experiments to upload and visualize results to tensorboard\n",
    "    * You can upload every folder that is generated in the same format to tensorboard\n",
    "    * For instance, the same can be achived using [PyTorch](https://pytorch.org/tutorials/recipes/recipes/tensorboard_with_pytorch.html) and the SummaryWriter\n"
   ]
  },
  {
   "cell_type": "code",
   "execution_count": null,
   "id": "0e8f75ed-1263-474b-9a99-1eacc6cfc733",
   "metadata": {
    "id": "0e8f75ed-1263-474b-9a99-1eacc6cfc733"
   },
   "outputs": [],
   "source": []
  }
 ],
 "metadata": {
  "colab": {
   "provenance": []
  },
  "kernelspec": {
   "display_name": "Python 3 (ipykernel)",
   "language": "python",
   "name": "python3"
  },
  "language_info": {
   "codemirror_mode": {
    "name": "ipython",
    "version": 3
   },
   "file_extension": ".py",
   "mimetype": "text/x-python",
   "name": "python",
   "nbconvert_exporter": "python",
   "pygments_lexer": "ipython3",
   "version": "3.9.13"
  }
 },
 "nbformat": 4,
 "nbformat_minor": 5
}
